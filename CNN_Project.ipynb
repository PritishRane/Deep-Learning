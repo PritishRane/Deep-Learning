{
  "nbformat": 4,
  "nbformat_minor": 0,
  "metadata": {
    "colab": {
      "provenance": [],
      "gpuType": "T4",
      "authorship_tag": "ABX9TyPZjK0E8jMan9rsXWxoz9Xy",
      "include_colab_link": true
    },
    "kernelspec": {
      "name": "python3",
      "display_name": "Python 3"
    },
    "language_info": {
      "name": "python"
    },
    "accelerator": "GPU"
  },
  "cells": [
    {
      "cell_type": "markdown",
      "metadata": {
        "id": "view-in-github",
        "colab_type": "text"
      },
      "source": [
        "<a href=\"https://colab.research.google.com/github/PritishRane/Deep-Learning/blob/main/CNN_Project.ipynb\" target=\"_parent\"><img src=\"https://colab.research.google.com/assets/colab-badge.svg\" alt=\"Open In Colab\"/></a>"
      ]
    },
    {
      "cell_type": "code",
      "execution_count": 1,
      "metadata": {
        "id": "pn1-q1FteXjP"
      },
      "outputs": [],
      "source": [
        "from warnings import filterwarnings\n",
        "filterwarnings ('ignore')"
      ]
    },
    {
      "cell_type": "code",
      "source": [
        "from google.colab import drive\n",
        "drive.mount('/content/drive')"
      ],
      "metadata": {
        "colab": {
          "base_uri": "https://localhost:8080/"
        },
        "id": "5Kx2M9ibegCL",
        "outputId": "dcd97ce4-9d46-4037-c82b-0822f163d22a"
      },
      "execution_count": 2,
      "outputs": [
        {
          "output_type": "stream",
          "name": "stdout",
          "text": [
            "Drive already mounted at /content/drive; to attempt to forcibly remount, call drive.mount(\"/content/drive\", force_remount=True).\n"
          ]
        }
      ]
    },
    {
      "cell_type": "code",
      "source": [
        "import zipfile\n",
        "import os\n"
      ],
      "metadata": {
        "id": "GdeBEYM-e3kF"
      },
      "execution_count": 3,
      "outputs": []
    },
    {
      "cell_type": "code",
      "source": [
        "\n",
        "\n",
        "# Path to the uploaded zip file in your Google Drive\n",
        "zip_path = '/content/drive/MyDrive/covid19.zip'\n",
        "extract_path = '/content/drive/MyDrive/covid19/Covid19-dataset'\n",
        "\n",
        "with zipfile.ZipFile(zip_path, 'r') as zip_ref:\n",
        "    zip_ref.extractall(extract_path)\n",
        "\n",
        "print(\"Dataset extracted to:\", extract_path)\n"
      ],
      "metadata": {
        "id": "73bLivvXe7bQ",
        "colab": {
          "base_uri": "https://localhost:8080/"
        },
        "outputId": "70fc21ed-6fa8-4f99-b2ba-4132966f4112"
      },
      "execution_count": 4,
      "outputs": [
        {
          "output_type": "stream",
          "name": "stdout",
          "text": [
            "Dataset extracted to: /content/drive/MyDrive/covid19/Covid19-dataset\n"
          ]
        }
      ]
    },
    {
      "cell_type": "code",
      "source": [
        "import numpy as np\n",
        "import matplotlib.pyplot as plt\n",
        "from tensorflow.keras.preprocessing.image import ImageDataGenerator\n",
        "from tensorflow.keras.models import Sequential\n",
        "from tensorflow.keras.layers import Conv2D, MaxPooling2D, Flatten, Dense, Dropout\n",
        "from tensorflow.keras.optimizers import Adam\n",
        "from sklearn.metrics import classification_report, confusion_matrix"
      ],
      "metadata": {
        "id": "i9x2pCLgfN4W"
      },
      "execution_count": 5,
      "outputs": []
    },
    {
      "cell_type": "code",
      "source": [
        "base_dir = \"/content/drive/MyDrive/covid19/Covid19-dataset/Covid19-dataset\"\n",
        "train_dir = os.path.join(base_dir, 'train')\n",
        "\n",
        "test_dir = os.path.join(base_dir, 'test')"
      ],
      "metadata": {
        "id": "k_m8L5jKfXBk"
      },
      "execution_count": 6,
      "outputs": []
    },
    {
      "cell_type": "code",
      "source": [
        "img_width, img_height = 64, 64\n",
        "batch_size = 32"
      ],
      "metadata": {
        "id": "mmElJi8ngFhP"
      },
      "execution_count": 7,
      "outputs": []
    },
    {
      "cell_type": "code",
      "source": [
        "#Data augmentation and preprocessing\n",
        "train_datagen = ImageDataGenerator(\n",
        "    rescale=1./255,\n",
        "    rotation_range=20,\n",
        "    width_shift_range=0.2,\n",
        "    height_shift_range=0.2,\n",
        "    shear_range=0.2,\n",
        "    zoom_range=0.2,\n",
        "    horizontal_flip=True)"
      ],
      "metadata": {
        "id": "Tq8iEVzWgL07"
      },
      "execution_count": 8,
      "outputs": []
    },
    {
      "cell_type": "code",
      "source": [
        "\n",
        "\n",
        "test_datagen = ImageDataGenerator(rescale=1./255)\n"
      ],
      "metadata": {
        "id": "Izp52bSAgWeZ"
      },
      "execution_count": 9,
      "outputs": []
    },
    {
      "cell_type": "code",
      "source": [
        "train_generator = train_datagen.flow_from_directory(\n",
        "    train_dir,\n",
        "    target_size=(img_width, img_height),\n",
        "    batch_size=batch_size,\n",
        "    class_mode='categorical'\n",
        ")\n",
        "\n",
        "\n",
        "\n",
        "\n",
        "test_generator = test_datagen.flow_from_directory(\n",
        "    test_dir,\n",
        "    target_size=(img_width, img_height),\n",
        "    batch_size=1,  # For predictions\n",
        "    class_mode='categorical',\n",
        "    shuffle=False\n",
        ")"
      ],
      "metadata": {
        "colab": {
          "base_uri": "https://localhost:8080/"
        },
        "id": "EFATB-zSgXVt",
        "outputId": "5ae01314-5c9b-4f8a-8efc-35f15ae43527"
      },
      "execution_count": 10,
      "outputs": [
        {
          "output_type": "stream",
          "name": "stdout",
          "text": [
            "Found 251 images belonging to 3 classes.\n",
            "Found 66 images belonging to 3 classes.\n"
          ]
        }
      ]
    },
    {
      "cell_type": "code",
      "source": [
        "model = Sequential([\n",
        "    Conv2D(32, (3, 3), activation='relu', input_shape=(img_width, img_height, 3)),\n",
        "    MaxPooling2D(pool_size=(2, 2)),\n",
        "\n",
        "    Conv2D(64, (3, 3), activation='relu'),\n",
        "    MaxPooling2D(pool_size=(2, 2)),\n",
        "\n",
        "    Conv2D(128, (3, 3), activation='relu'),\n",
        "    MaxPooling2D(pool_size=(2, 2)),\n",
        "\n",
        "    Flatten(),\n",
        "    Dense(128, activation='relu'),\n",
        "    Dropout(0.5),\n",
        "    Dense(len(train_generator.class_indices), activation='softmax')\n",
        "])"
      ],
      "metadata": {
        "id": "Gih7gzKQgZmM"
      },
      "execution_count": 11,
      "outputs": []
    },
    {
      "cell_type": "code",
      "source": [
        "model.compile(optimizer=Adam(learning_rate=0.001),\n",
        "              loss='categorical_crossentropy',\n",
        "              metrics=['accuracy'])\n"
      ],
      "metadata": {
        "id": "5exxlxdzoQo5"
      },
      "execution_count": 12,
      "outputs": []
    },
    {
      "cell_type": "code",
      "source": [
        "history = model.fit(\n",
        "    train_generator,\n",
        "    steps_per_epoch=train_generator.samples // batch_size,\n",
        "    epochs=10,\n",
        "    validation_data=test_generator,\n",
        "\n",
        ")"
      ],
      "metadata": {
        "colab": {
          "base_uri": "https://localhost:8080/"
        },
        "id": "jfdSqxDFoWEz",
        "outputId": "aad713ad-3b5c-4713-ac07-96b047b824a4"
      },
      "execution_count": 13,
      "outputs": [
        {
          "output_type": "stream",
          "name": "stdout",
          "text": [
            "Epoch 1/10\n",
            "\u001b[1m7/7\u001b[0m \u001b[32m━━━━━━━━━━━━━━━━━━━━\u001b[0m\u001b[37m\u001b[0m \u001b[1m16s\u001b[0m 692ms/step - accuracy: 0.3840 - loss: 1.1009 - val_accuracy: 0.3939 - val_loss: 1.0732\n",
            "Epoch 2/10\n",
            "\u001b[1m7/7\u001b[0m \u001b[32m━━━━━━━━━━━━━━━━━━━━\u001b[0m\u001b[37m\u001b[0m \u001b[1m1s\u001b[0m 137ms/step - accuracy: 0.3750 - loss: 1.1628 - val_accuracy: 0.6212 - val_loss: 1.0665\n",
            "Epoch 3/10\n",
            "\u001b[1m7/7\u001b[0m \u001b[32m━━━━━━━━━━━━━━━━━━━━\u001b[0m\u001b[37m\u001b[0m \u001b[1m8s\u001b[0m 145ms/step - accuracy: 0.5045 - loss: 1.0646 - val_accuracy: 0.4848 - val_loss: 1.0132\n",
            "Epoch 4/10\n",
            "\u001b[1m7/7\u001b[0m \u001b[32m━━━━━━━━━━━━━━━━━━━━\u001b[0m\u001b[37m\u001b[0m \u001b[1m1s\u001b[0m 134ms/step - accuracy: 0.4062 - loss: 1.0786 - val_accuracy: 0.7273 - val_loss: 0.9927\n",
            "Epoch 5/10\n",
            "\u001b[1m7/7\u001b[0m \u001b[32m━━━━━━━━━━━━━━━━━━━━\u001b[0m\u001b[37m\u001b[0m \u001b[1m8s\u001b[0m 141ms/step - accuracy: 0.5890 - loss: 0.9993 - val_accuracy: 0.8182 - val_loss: 0.7377\n",
            "Epoch 6/10\n",
            "\u001b[1m7/7\u001b[0m \u001b[32m━━━━━━━━━━━━━━━━━━━━\u001b[0m\u001b[37m\u001b[0m \u001b[1m1s\u001b[0m 189ms/step - accuracy: 0.6250 - loss: 0.8907 - val_accuracy: 0.6970 - val_loss: 0.7329\n",
            "Epoch 7/10\n",
            "\u001b[1m7/7\u001b[0m \u001b[32m━━━━━━━━━━━━━━━━━━━━\u001b[0m\u001b[37m\u001b[0m \u001b[1m8s\u001b[0m 143ms/step - accuracy: 0.6360 - loss: 0.8515 - val_accuracy: 0.6818 - val_loss: 0.5752\n",
            "Epoch 8/10\n",
            "\u001b[1m7/7\u001b[0m \u001b[32m━━━━━━━━━━━━━━━━━━━━\u001b[0m\u001b[37m\u001b[0m \u001b[1m1s\u001b[0m 141ms/step - accuracy: 0.5938 - loss: 0.9579 - val_accuracy: 0.6818 - val_loss: 0.5947\n",
            "Epoch 9/10\n",
            "\u001b[1m7/7\u001b[0m \u001b[32m━━━━━━━━━━━━━━━━━━━━\u001b[0m\u001b[37m\u001b[0m \u001b[1m10s\u001b[0m 224ms/step - accuracy: 0.6433 - loss: 0.8183 - val_accuracy: 0.8333 - val_loss: 0.5798\n",
            "Epoch 10/10\n",
            "\u001b[1m7/7\u001b[0m \u001b[32m━━━━━━━━━━━━━━━━━━━━\u001b[0m\u001b[37m\u001b[0m \u001b[1m1s\u001b[0m 134ms/step - accuracy: 0.5938 - loss: 0.8571 - val_accuracy: 0.9242 - val_loss: 0.5157\n"
          ]
        }
      ]
    },
    {
      "cell_type": "code",
      "source": [
        "loss, accuracy = model.evaluate(test_generator, steps=test_generator.samples)\n",
        "print(f\"Test Loss: {loss}, Test Accuracy: {accuracy}\")"
      ],
      "metadata": {
        "colab": {
          "base_uri": "https://localhost:8080/"
        },
        "id": "5w1RR1RapG2x",
        "outputId": "f37c7597-5e6b-4196-fefa-64ccf26ae304"
      },
      "execution_count": 14,
      "outputs": [
        {
          "output_type": "stream",
          "name": "stdout",
          "text": [
            "\u001b[1m66/66\u001b[0m \u001b[32m━━━━━━━━━━━━━━━━━━━━\u001b[0m\u001b[37m\u001b[0m \u001b[1m1s\u001b[0m 13ms/step - accuracy: 0.9481 - loss: 0.3977\n",
            "Test Loss: 0.515701949596405, Test Accuracy: 0.9242424368858337\n"
          ]
        }
      ]
    },
    {
      "cell_type": "code",
      "source": [
        "predictions = np.argmax(model.predict(test_generator, steps=test_generator.samples), axis=-1)\n",
        "true_labels = test_generator.classes\n",
        "class_labels = list(test_generator.class_indices.keys())"
      ],
      "metadata": {
        "colab": {
          "base_uri": "https://localhost:8080/"
        },
        "id": "VqA420lVpbWu",
        "outputId": "259baf17-c308-474f-899d-76e69d24700d"
      },
      "execution_count": 15,
      "outputs": [
        {
          "output_type": "stream",
          "name": "stdout",
          "text": [
            "\u001b[1m66/66\u001b[0m \u001b[32m━━━━━━━━━━━━━━━━━━━━\u001b[0m\u001b[37m\u001b[0m \u001b[1m1s\u001b[0m 14ms/step\n"
          ]
        }
      ]
    },
    {
      "cell_type": "code",
      "source": [
        "print(\"Classification Report:\\n\")\n",
        "print(classification_report(true_labels, predictions, target_names=class_labels))\n"
      ],
      "metadata": {
        "colab": {
          "base_uri": "https://localhost:8080/"
        },
        "id": "bAroZIFApfdY",
        "outputId": "efb3b34e-db2e-469a-e005-50b505815434"
      },
      "execution_count": 16,
      "outputs": [
        {
          "output_type": "stream",
          "name": "stdout",
          "text": [
            "Classification Report:\n",
            "\n",
            "                 precision    recall  f1-score   support\n",
            "\n",
            "          Covid       1.00      0.96      0.98        26\n",
            "         Normal       0.90      0.90      0.90        20\n",
            "Viral Pneumonia       0.86      0.90      0.88        20\n",
            "\n",
            "       accuracy                           0.92        66\n",
            "      macro avg       0.92      0.92      0.92        66\n",
            "   weighted avg       0.93      0.92      0.93        66\n",
            "\n"
          ]
        }
      ]
    },
    {
      "cell_type": "code",
      "source": [
        "model.save(\"model.h5\")"
      ],
      "metadata": {
        "colab": {
          "base_uri": "https://localhost:8080/"
        },
        "id": "9ML2H9QlLJ_a",
        "outputId": "3aebf038-aa31-4149-f678-41e48d0cca7a"
      },
      "execution_count": 65,
      "outputs": [
        {
          "output_type": "stream",
          "name": "stderr",
          "text": [
            "WARNING:absl:You are saving your model as an HDF5 file via `model.save()` or `keras.saving.save_model(model)`. This file format is considered legacy. We recommend using instead the native Keras format, e.g. `model.save('my_model.keras')` or `keras.saving.save_model(model, 'my_model.keras')`. \n"
          ]
        }
      ]
    },
    {
      "cell_type": "markdown",
      "source": [
        "**# LeNet-5**"
      ],
      "metadata": {
        "id": "4l-cnyGLC8l2"
      }
    },
    {
      "cell_type": "code",
      "source": [
        "LeNet5= Sequential([\n",
        "    Conv2D(6, (5, 5), activation='tanh', input_shape=(img_width, img_height, 3), padding='same'),\n",
        "    MaxPooling2D(pool_size=(2, 2), strides=2),\n",
        "\n",
        "    Conv2D(16, (5, 5), activation='tanh', padding='valid'),\n",
        "    MaxPooling2D(pool_size=(2, 2), strides=2),\n",
        "\n",
        "    Flatten(),\n",
        "    Dense(120, activation='tanh'),\n",
        "    Dense(84, activation='tanh'),\n",
        "    Dense(len(train_generator.class_indices), activation='softmax')\n",
        "])"
      ],
      "metadata": {
        "id": "KWh825zjpjIm"
      },
      "execution_count": 17,
      "outputs": []
    },
    {
      "cell_type": "code",
      "source": [
        "LeNet5.compile(optimizer=Adam(learning_rate=0.001),\n",
        "              loss='categorical_crossentropy',\n",
        "              metrics=['accuracy'])"
      ],
      "metadata": {
        "id": "kGpYZBW6psCR"
      },
      "execution_count": 18,
      "outputs": []
    },
    {
      "cell_type": "code",
      "source": [
        "history1 = model.fit( train_generator,\n",
        "    steps_per_epoch=train_generator.samples // batch_size,\n",
        "    epochs=10,\n",
        "    validation_data=test_generator,\n",
        ")"
      ],
      "metadata": {
        "colab": {
          "base_uri": "https://localhost:8080/"
        },
        "id": "E1fmaa9RDVTZ",
        "outputId": "901bd128-56a8-4c93-da18-5525f7b8fe0e"
      },
      "execution_count": 20,
      "outputs": [
        {
          "output_type": "stream",
          "name": "stdout",
          "text": [
            "Epoch 1/10\n",
            "\u001b[1m7/7\u001b[0m \u001b[32m━━━━━━━━━━━━━━━━━━━━\u001b[0m\u001b[37m\u001b[0m \u001b[1m7s\u001b[0m 150ms/step - accuracy: 0.6690 - loss: 0.7320 - val_accuracy: 0.8939 - val_loss: 0.4852\n",
            "Epoch 2/10\n",
            "\u001b[1m7/7\u001b[0m \u001b[32m━━━━━━━━━━━━━━━━━━━━\u001b[0m\u001b[37m\u001b[0m \u001b[1m1s\u001b[0m 164ms/step - accuracy: 0.8438 - loss: 0.5349 - val_accuracy: 0.8333 - val_loss: 0.5209\n",
            "Epoch 3/10\n",
            "\u001b[1m7/7\u001b[0m \u001b[32m━━━━━━━━━━━━━━━━━━━━\u001b[0m\u001b[37m\u001b[0m \u001b[1m10s\u001b[0m 439ms/step - accuracy: 0.7075 - loss: 0.6797 - val_accuracy: 0.7273 - val_loss: 0.4654\n",
            "Epoch 4/10\n",
            "\u001b[1m7/7\u001b[0m \u001b[32m━━━━━━━━━━━━━━━━━━━━\u001b[0m\u001b[37m\u001b[0m \u001b[1m1s\u001b[0m 132ms/step - accuracy: 0.7188 - loss: 0.6293 - val_accuracy: 0.8485 - val_loss: 0.6057\n",
            "Epoch 5/10\n",
            "\u001b[1m7/7\u001b[0m \u001b[32m━━━━━━━━━━━━━━━━━━━━\u001b[0m\u001b[37m\u001b[0m \u001b[1m16s\u001b[0m 138ms/step - accuracy: 0.7292 - loss: 0.7342 - val_accuracy: 0.7424 - val_loss: 0.4238\n",
            "Epoch 6/10\n",
            "\u001b[1m7/7\u001b[0m \u001b[32m━━━━━━━━━━━━━━━━━━━━\u001b[0m\u001b[37m\u001b[0m \u001b[1m1s\u001b[0m 213ms/step - accuracy: 0.6250 - loss: 0.7721 - val_accuracy: 0.8636 - val_loss: 0.4196\n",
            "Epoch 7/10\n",
            "\u001b[1m7/7\u001b[0m \u001b[32m━━━━━━━━━━━━━━━━━━━━\u001b[0m\u001b[37m\u001b[0m \u001b[1m8s\u001b[0m 219ms/step - accuracy: 0.7454 - loss: 0.6035 - val_accuracy: 0.8485 - val_loss: 0.4319\n",
            "Epoch 8/10\n",
            "\u001b[1m7/7\u001b[0m \u001b[32m━━━━━━━━━━━━━━━━━━━━\u001b[0m\u001b[37m\u001b[0m \u001b[1m1s\u001b[0m 130ms/step - accuracy: 0.7037 - loss: 0.5719 - val_accuracy: 0.7727 - val_loss: 0.4254\n",
            "Epoch 9/10\n",
            "\u001b[1m7/7\u001b[0m \u001b[32m━━━━━━━━━━━━━━━━━━━━\u001b[0m\u001b[37m\u001b[0m \u001b[1m7s\u001b[0m 219ms/step - accuracy: 0.8087 - loss: 0.5379 - val_accuracy: 0.8182 - val_loss: 0.4224\n",
            "Epoch 10/10\n",
            "\u001b[1m7/7\u001b[0m \u001b[32m━━━━━━━━━━━━━━━━━━━━\u001b[0m\u001b[37m\u001b[0m \u001b[1m1s\u001b[0m 213ms/step - accuracy: 0.7188 - loss: 0.6484 - val_accuracy: 0.8182 - val_loss: 0.4146\n"
          ]
        }
      ]
    },
    {
      "cell_type": "code",
      "source": [
        "loss, accuracy = LeNet5.evaluate(test_generator, steps=test_generator.samples)\n",
        "print(f\"Test Loss: {loss}, Test Accuracy: {accuracy}\")"
      ],
      "metadata": {
        "colab": {
          "base_uri": "https://localhost:8080/"
        },
        "id": "455f2D_wDZTG",
        "outputId": "f23f2458-3006-47dc-d7df-1acf9760709b"
      },
      "execution_count": 32,
      "outputs": [
        {
          "output_type": "stream",
          "name": "stdout",
          "text": [
            "\u001b[1m66/66\u001b[0m \u001b[32m━━━━━━━━━━━━━━━━━━━━\u001b[0m\u001b[37m\u001b[0m \u001b[1m2s\u001b[0m 13ms/step - accuracy: 0.5698 - loss: 0.9751\n",
            "Test Loss: 1.1174923181533813, Test Accuracy: 0.3484848439693451\n"
          ]
        }
      ]
    },
    {
      "cell_type": "code",
      "source": [
        "predictions = np.argmax(LeNet5.predict(test_generator, steps=test_generator.samples), axis=-1)\n",
        "true_labels = test_generator.classes\n",
        "class_labels = list(test_generator.class_indices.keys())"
      ],
      "metadata": {
        "colab": {
          "base_uri": "https://localhost:8080/"
        },
        "id": "VsShUPQXDnrS",
        "outputId": "51b9d3ad-6f98-4032-a8fc-6244aeb8a4e8"
      },
      "execution_count": 33,
      "outputs": [
        {
          "output_type": "stream",
          "name": "stdout",
          "text": [
            "\u001b[1m66/66\u001b[0m \u001b[32m━━━━━━━━━━━━━━━━━━━━\u001b[0m\u001b[37m\u001b[0m \u001b[1m2s\u001b[0m 22ms/step\n"
          ]
        }
      ]
    },
    {
      "cell_type": "code",
      "source": [
        "print(\"Classification Report:\\n\")\n",
        "print(classification_report(true_labels, predictions, target_names=class_labels))\n"
      ],
      "metadata": {
        "colab": {
          "base_uri": "https://localhost:8080/"
        },
        "id": "2-kZin69Dn2D",
        "outputId": "3971c32d-e724-4958-e7b0-f7973f043036"
      },
      "execution_count": 34,
      "outputs": [
        {
          "output_type": "stream",
          "name": "stdout",
          "text": [
            "Classification Report:\n",
            "\n",
            "                 precision    recall  f1-score   support\n",
            "\n",
            "          Covid       0.42      0.62      0.50        26\n",
            "         Normal       0.25      0.35      0.29        20\n",
            "Viral Pneumonia       0.00      0.00      0.00        20\n",
            "\n",
            "       accuracy                           0.35        66\n",
            "      macro avg       0.22      0.32      0.26        66\n",
            "   weighted avg       0.24      0.35      0.29        66\n",
            "\n"
          ]
        }
      ]
    },
    {
      "cell_type": "code",
      "source": [
        "model.save(\"LetNet5.h5\")"
      ],
      "metadata": {
        "colab": {
          "base_uri": "https://localhost:8080/"
        },
        "id": "fGXm97JpLSKw",
        "outputId": "3f3437c1-b9f6-4a65-d689-99d9d2a5899f"
      },
      "execution_count": 66,
      "outputs": [
        {
          "output_type": "stream",
          "name": "stderr",
          "text": [
            "WARNING:absl:You are saving your model as an HDF5 file via `model.save()` or `keras.saving.save_model(model)`. This file format is considered legacy. We recommend using instead the native Keras format, e.g. `model.save('my_model.keras')` or `keras.saving.save_model(model, 'my_model.keras')`. \n"
          ]
        }
      ]
    },
    {
      "cell_type": "markdown",
      "source": [
        "# **AlexNet**"
      ],
      "metadata": {
        "id": "to5Z5aAID98K"
      }
    },
    {
      "cell_type": "code",
      "source": [
        "from tensorflow.keras.layers import BatchNormalization"
      ],
      "metadata": {
        "id": "vNLY7e-lEMke"
      },
      "execution_count": 25,
      "outputs": []
    },
    {
      "cell_type": "code",
      "source": [
        "AlexNet = Sequential([\n",
        "    Conv2D(96, (11, 11), strides=4, activation='relu', input_shape=(img_width, img_height, 3), padding='same'),\n",
        "    BatchNormalization(),\n",
        "    MaxPooling2D(pool_size=(3, 3), strides=2, padding='same'),\n",
        "\n",
        "    Conv2D(256, (5, 5), padding='same', activation='relu'),\n",
        "    BatchNormalization(),\n",
        "    MaxPooling2D(pool_size=(3, 3), strides=2, padding='same'),\n",
        "\n",
        "    Conv2D(384, (3, 3), padding='same', activation='relu'),\n",
        "    Conv2D(384, (3, 3), padding='same', activation='relu'),\n",
        "    Conv2D(256, (3, 3), padding='same', activation='relu'),\n",
        "    MaxPooling2D(pool_size=(3, 3), strides=2, padding='same'),\n",
        "\n",
        "    Flatten(),\n",
        "    Dense(4096, activation='relu'),\n",
        "    Dropout(0.5),\n",
        "    Dense(4096, activation='relu'),\n",
        "    Dropout(0.5),\n",
        "    Dense(len(train_generator.class_indices), activation='softmax')\n",
        "])"
      ],
      "metadata": {
        "id": "VryNqX-iDn4q"
      },
      "execution_count": 41,
      "outputs": []
    },
    {
      "cell_type": "code",
      "source": [
        "AlexNet.compile(optimizer=Adam(learning_rate=0.001),\n",
        "              loss='categorical_crossentropy',\n",
        "              metrics=['accuracy'])"
      ],
      "metadata": {
        "id": "iCgRv-jiEDn7"
      },
      "execution_count": 42,
      "outputs": []
    },
    {
      "cell_type": "code",
      "source": [
        "history2 = model.fit( train_generator,\n",
        "    steps_per_epoch=train_generator.samples // batch_size,\n",
        "    epochs=10,\n",
        "    validation_data=test_generator,\n",
        ")"
      ],
      "metadata": {
        "colab": {
          "base_uri": "https://localhost:8080/"
        },
        "id": "hxkFV155ESu1",
        "outputId": "966c121d-d471-48d4-d1c8-e4a12325ab43"
      },
      "execution_count": 43,
      "outputs": [
        {
          "output_type": "stream",
          "name": "stdout",
          "text": [
            "Epoch 1/10\n",
            "\u001b[1m7/7\u001b[0m \u001b[32m━━━━━━━━━━━━━━━━━━━━\u001b[0m\u001b[37m\u001b[0m \u001b[1m7s\u001b[0m 216ms/step - accuracy: 0.8594 - loss: 0.3969 - val_accuracy: 0.9394 - val_loss: 0.2635\n",
            "Epoch 2/10\n",
            "\u001b[1m7/7\u001b[0m \u001b[32m━━━━━━━━━━━━━━━━━━━━\u001b[0m\u001b[37m\u001b[0m \u001b[1m1s\u001b[0m 191ms/step - accuracy: 0.8125 - loss: 0.4446 - val_accuracy: 0.9242 - val_loss: 0.2762\n",
            "Epoch 3/10\n",
            "\u001b[1m7/7\u001b[0m \u001b[32m━━━━━━━━━━━━━━━━━━━━\u001b[0m\u001b[37m\u001b[0m \u001b[1m6s\u001b[0m 140ms/step - accuracy: 0.7666 - loss: 0.5392 - val_accuracy: 0.8788 - val_loss: 0.2974\n",
            "Epoch 4/10\n",
            "\u001b[1m7/7\u001b[0m \u001b[32m━━━━━━━━━━━━━━━━━━━━\u001b[0m\u001b[37m\u001b[0m \u001b[1m1s\u001b[0m 213ms/step - accuracy: 0.8750 - loss: 0.4119 - val_accuracy: 0.9091 - val_loss: 0.2786\n",
            "Epoch 5/10\n",
            "\u001b[1m7/7\u001b[0m \u001b[32m━━━━━━━━━━━━━━━━━━━━\u001b[0m\u001b[37m\u001b[0m \u001b[1m8s\u001b[0m 142ms/step - accuracy: 0.7686 - loss: 0.5348 - val_accuracy: 0.8788 - val_loss: 0.3063\n",
            "Epoch 6/10\n",
            "\u001b[1m7/7\u001b[0m \u001b[32m━━━━━━━━━━━━━━━━━━━━\u001b[0m\u001b[37m\u001b[0m \u001b[1m1s\u001b[0m 139ms/step - accuracy: 0.7188 - loss: 0.6767 - val_accuracy: 0.8636 - val_loss: 0.2968\n",
            "Epoch 7/10\n",
            "\u001b[1m7/7\u001b[0m \u001b[32m━━━━━━━━━━━━━━━━━━━━\u001b[0m\u001b[37m\u001b[0m \u001b[1m8s\u001b[0m 180ms/step - accuracy: 0.8022 - loss: 0.4587 - val_accuracy: 0.8636 - val_loss: 0.4192\n",
            "Epoch 8/10\n",
            "\u001b[1m7/7\u001b[0m \u001b[32m━━━━━━━━━━━━━━━━━━━━\u001b[0m\u001b[37m\u001b[0m \u001b[1m1s\u001b[0m 214ms/step - accuracy: 0.6875 - loss: 0.6072 - val_accuracy: 0.8788 - val_loss: 0.3478\n",
            "Epoch 9/10\n",
            "\u001b[1m7/7\u001b[0m \u001b[32m━━━━━━━━━━━━━━━━━━━━\u001b[0m\u001b[37m\u001b[0m \u001b[1m8s\u001b[0m 219ms/step - accuracy: 0.8215 - loss: 0.4542 - val_accuracy: 0.8788 - val_loss: 0.3760\n",
            "Epoch 10/10\n",
            "\u001b[1m7/7\u001b[0m \u001b[32m━━━━━━━━━━━━━━━━━━━━\u001b[0m\u001b[37m\u001b[0m \u001b[1m1s\u001b[0m 132ms/step - accuracy: 0.9375 - loss: 0.2161 - val_accuracy: 0.8636 - val_loss: 0.4611\n"
          ]
        }
      ]
    },
    {
      "cell_type": "code",
      "source": [
        "loss, accuracy = AlexNet.evaluate(test_generator, steps=test_generator.samples)\n",
        "print(f\"Test Loss: {loss}, Test Accuracy: {accuracy}\")"
      ],
      "metadata": {
        "colab": {
          "base_uri": "https://localhost:8080/"
        },
        "id": "kzFZaxg5Eeh6",
        "outputId": "24c0562c-cc84-4b3e-91ce-6c4a1c9d5a03"
      },
      "execution_count": 44,
      "outputs": [
        {
          "output_type": "stream",
          "name": "stdout",
          "text": [
            "\u001b[1m66/66\u001b[0m \u001b[32m━━━━━━━━━━━━━━━━━━━━\u001b[0m\u001b[37m\u001b[0m \u001b[1m2s\u001b[0m 13ms/step - accuracy: 0.3416 - loss: 1.0975\n",
            "Test Loss: 1.0982357263565063, Test Accuracy: 0.3636363744735718\n"
          ]
        }
      ]
    },
    {
      "cell_type": "code",
      "source": [
        "predictions = np.argmax(AlexNet.predict(test_generator, steps=test_generator.samples), axis=-1)\n",
        "true_labels = test_generator.classes\n",
        "class_labels = list(test_generator.class_indices.keys())"
      ],
      "metadata": {
        "colab": {
          "base_uri": "https://localhost:8080/"
        },
        "id": "Y7DBDzTXFMw5",
        "outputId": "048a17ff-e4a2-49b0-bc00-9f6410ce7954"
      },
      "execution_count": 45,
      "outputs": [
        {
          "output_type": "stream",
          "name": "stdout",
          "text": [
            "\u001b[1m66/66\u001b[0m \u001b[32m━━━━━━━━━━━━━━━━━━━━\u001b[0m\u001b[37m\u001b[0m \u001b[1m2s\u001b[0m 13ms/step\n"
          ]
        }
      ]
    },
    {
      "cell_type": "code",
      "source": [
        "print(\"Classification Report:\\n\")\n",
        "print(classification_report(true_labels, predictions, target_names=class_labels))"
      ],
      "metadata": {
        "colab": {
          "base_uri": "https://localhost:8080/"
        },
        "id": "lNFQhXDRHSFB",
        "outputId": "a5e0d73b-b787-4588-ba40-e4d6eec004aa"
      },
      "execution_count": 46,
      "outputs": [
        {
          "output_type": "stream",
          "name": "stdout",
          "text": [
            "Classification Report:\n",
            "\n",
            "                 precision    recall  f1-score   support\n",
            "\n",
            "          Covid       0.44      0.31      0.36        26\n",
            "         Normal       0.33      0.80      0.47        20\n",
            "Viral Pneumonia       0.00      0.00      0.00        20\n",
            "\n",
            "       accuracy                           0.36        66\n",
            "      macro avg       0.26      0.37      0.28        66\n",
            "   weighted avg       0.28      0.36      0.29        66\n",
            "\n"
          ]
        }
      ]
    },
    {
      "cell_type": "code",
      "source": [
        "model.save(\"AlexNet.h5\")"
      ],
      "metadata": {
        "colab": {
          "base_uri": "https://localhost:8080/"
        },
        "id": "nbHBjHuFLXn4",
        "outputId": "ddad22a2-f5b7-4c39-a65f-903235e69135"
      },
      "execution_count": 67,
      "outputs": [
        {
          "output_type": "stream",
          "name": "stderr",
          "text": [
            "WARNING:absl:You are saving your model as an HDF5 file via `model.save()` or `keras.saving.save_model(model)`. This file format is considered legacy. We recommend using instead the native Keras format, e.g. `model.save('my_model.keras')` or `keras.saving.save_model(model, 'my_model.keras')`. \n"
          ]
        }
      ]
    },
    {
      "cell_type": "markdown",
      "source": [
        "# **GoogleNet**"
      ],
      "metadata": {
        "id": "b4Hebn_dHqgv"
      }
    },
    {
      "cell_type": "code",
      "source": [
        "from tensorflow.keras.layers import AveragePooling2D, concatenate, Input\n",
        "from tensorflow.keras.models import Model\n",
        "from tensorflow.keras.layers import Conv2D, MaxPooling2D, Flatten, Dense, Dropout"
      ],
      "metadata": {
        "id": "fJIwGNj9HVix"
      },
      "execution_count": 49,
      "outputs": []
    },
    {
      "cell_type": "code",
      "source": [
        "def inception_module(x, filters):\n",
        "    # 1x1 convolution\n",
        "    conv1 = Conv2D(filters[0], (1, 1), padding='same', activation='relu')(x)\n",
        "\n",
        "    # 3x3 convolution\n",
        "    conv3 = Conv2D(filters[1], (1, 1), padding='same', activation='relu')(x)\n",
        "    conv3 = Conv2D(filters[2], (3, 3), padding='same', activation='relu')(conv3)\n",
        "\n",
        "    # 5x5 convolution\n",
        "    conv5 = Conv2D(filters[3], (1, 1), padding='same', activation='relu')(x)\n",
        "    conv5 = Conv2D(filters[4], (5, 5), padding='same', activation='relu')(conv5)\n",
        "\n",
        "    # Max pooling\n",
        "    pool = MaxPooling2D((3, 3), strides=(1, 1), padding='same')(x)\n",
        "    pool = Conv2D(filters[5], (1, 1), padding='same', activation='relu')(pool)\n",
        "\n",
        "    # Concatenate all\n",
        "    output = concatenate([conv1, conv3, conv5, pool], axis=-1)\n",
        "    return output\n",
        "\n",
        "input_layer = Input(shape=(img_width, img_height, 3))"
      ],
      "metadata": {
        "id": "nCaFL_XTH42w"
      },
      "execution_count": 50,
      "outputs": []
    },
    {
      "cell_type": "code",
      "source": [
        "# Initial layers\n",
        "x = Conv2D(64, (7, 7), strides=2, padding='same', activation='relu')(input_layer)\n",
        "x = MaxPooling2D((3, 3), strides=2, padding='same')(x)\n",
        "x = Conv2D(192, (3, 3), padding='same', activation='relu')(x)\n",
        "x = MaxPooling2D((3, 3), strides=2, padding='same')(x)\n",
        "\n",
        "# Inception modules\n",
        "x = inception_module(x, [64, 96, 128, 16, 32, 32])\n",
        "x = inception_module(x, [128, 128, 192, 32, 96, 64])\n",
        "x = MaxPooling2D((3, 3), strides=2, padding='same')(x)\n",
        "\n",
        "x = inception_module(x, [192, 96, 208, 16, 48, 64])\n",
        "x = inception_module(x, [160, 112, 224, 24, 64, 64])\n",
        "x = inception_module(x, [128, 128, 256, 24, 64, 64])\n",
        "x = inception_module(x, [112, 144, 288, 32, 64, 64])\n",
        "x = inception_module(x, [256, 160, 320, 32, 128, 128])\n",
        "x = MaxPooling2D((3, 3), strides=2, padding='same')(x)\n",
        "\n",
        "x = inception_module(x, [256, 160, 320, 32, 128, 128])\n",
        "x = inception_module(x, [384, 192, 384, 48, 128, 128])\n",
        "\n",
        "# Final layers\n",
        "x = AveragePooling2D((2, 2), strides=1, padding='valid')(x)\n",
        "x = Flatten()(x)\n",
        "x = Dropout(0.4)(x)\n",
        "output_layer = Dense(len(train_generator.class_indices), activation='softmax')(x)"
      ],
      "metadata": {
        "id": "yYEAMvAAICW9"
      },
      "execution_count": 52,
      "outputs": []
    },
    {
      "cell_type": "code",
      "source": [
        "googlenet= Model(inputs=input_layer, outputs=output_layer)"
      ],
      "metadata": {
        "id": "ikW8YTlkIQ66"
      },
      "execution_count": 53,
      "outputs": []
    },
    {
      "cell_type": "code",
      "source": [
        "googlenet.compile(optimizer=Adam(learning_rate=0.001),\n",
        "              loss='categorical_crossentropy',\n",
        "              metrics=['accuracy'])"
      ],
      "metadata": {
        "id": "f3kolZsDJQGT"
      },
      "execution_count": 54,
      "outputs": []
    },
    {
      "cell_type": "code",
      "source": [
        "history3= googlenet.fit( train_generator,\n",
        "    steps_per_epoch=train_generator.samples // batch_size,\n",
        "    epochs=10,\n",
        "    validation_data=test_generator,\n",
        ")"
      ],
      "metadata": {
        "colab": {
          "base_uri": "https://localhost:8080/"
        },
        "id": "ykn0KZQ0JToV",
        "outputId": "e138f9bc-880d-4945-c826-77a744d8ff0f"
      },
      "execution_count": 55,
      "outputs": [
        {
          "output_type": "stream",
          "name": "stdout",
          "text": [
            "Epoch 1/10\n",
            "\u001b[1m7/7\u001b[0m \u001b[32m━━━━━━━━━━━━━━━━━━━━\u001b[0m\u001b[37m\u001b[0m \u001b[1m40s\u001b[0m 772ms/step - accuracy: 0.4381 - loss: 1.2120 - val_accuracy: 0.3939 - val_loss: 1.0969\n",
            "Epoch 2/10\n",
            "\u001b[1m7/7\u001b[0m \u001b[32m━━━━━━━━━━━━━━━━━━━━\u001b[0m\u001b[37m\u001b[0m \u001b[1m22s\u001b[0m 148ms/step - accuracy: 0.4815 - loss: 1.0942 - val_accuracy: 0.3939 - val_loss: 1.0962\n",
            "Epoch 3/10\n",
            "\u001b[1m7/7\u001b[0m \u001b[32m━━━━━━━━━━━━━━━━━━━━\u001b[0m\u001b[37m\u001b[0m \u001b[1m40s\u001b[0m 178ms/step - accuracy: 0.4100 - loss: 1.0941 - val_accuracy: 0.3939 - val_loss: 1.0914\n",
            "Epoch 4/10\n",
            "\u001b[1m7/7\u001b[0m \u001b[32m━━━━━━━━━━━━━━━━━━━━\u001b[0m\u001b[37m\u001b[0m \u001b[1m1s\u001b[0m 142ms/step - accuracy: 0.5938 - loss: 1.0528 - val_accuracy: 0.3939 - val_loss: 1.0918\n",
            "Epoch 5/10\n",
            "\u001b[1m7/7\u001b[0m \u001b[32m━━━━━━━━━━━━━━━━━━━━\u001b[0m\u001b[37m\u001b[0m \u001b[1m10s\u001b[0m 245ms/step - accuracy: 0.4540 - loss: 1.0700 - val_accuracy: 0.3939 - val_loss: 1.0933\n",
            "Epoch 6/10\n",
            "\u001b[1m7/7\u001b[0m \u001b[32m━━━━━━━━━━━━━━━━━━━━\u001b[0m\u001b[37m\u001b[0m \u001b[1m1s\u001b[0m 213ms/step - accuracy: 0.4444 - loss: 1.0716 - val_accuracy: 0.3939 - val_loss: 1.0918\n",
            "Epoch 7/10\n",
            "\u001b[1m7/7\u001b[0m \u001b[32m━━━━━━━━━━━━━━━━━━━━\u001b[0m\u001b[37m\u001b[0m \u001b[1m8s\u001b[0m 280ms/step - accuracy: 0.4502 - loss: 1.0742 - val_accuracy: 0.3939 - val_loss: 1.0905\n",
            "Epoch 8/10\n",
            "\u001b[1m7/7\u001b[0m \u001b[32m━━━━━━━━━━━━━━━━━━━━\u001b[0m\u001b[37m\u001b[0m \u001b[1m1s\u001b[0m 157ms/step - accuracy: 0.4375 - loss: 1.0774 - val_accuracy: 0.3939 - val_loss: 1.0904\n",
            "Epoch 9/10\n",
            "\u001b[1m7/7\u001b[0m \u001b[32m━━━━━━━━━━━━━━━━━━━━\u001b[0m\u001b[37m\u001b[0m \u001b[1m8s\u001b[0m 180ms/step - accuracy: 0.4515 - loss: 1.0714 - val_accuracy: 0.3939 - val_loss: 1.0885\n",
            "Epoch 10/10\n",
            "\u001b[1m7/7\u001b[0m \u001b[32m━━━━━━━━━━━━━━━━━━━━\u001b[0m\u001b[37m\u001b[0m \u001b[1m1s\u001b[0m 140ms/step - accuracy: 0.3438 - loss: 1.1110 - val_accuracy: 0.3939 - val_loss: 1.0757\n"
          ]
        }
      ]
    },
    {
      "cell_type": "code",
      "source": [
        "loss, accuracy = googlenet.evaluate(test_generator, steps=test_generator.samples)\n",
        "print(f\"Test Loss: {loss}, Test Accuracy: {accuracy}\")"
      ],
      "metadata": {
        "colab": {
          "base_uri": "https://localhost:8080/"
        },
        "id": "XmczeRXAJWr6",
        "outputId": "036da66f-8c48-4f86-ea45-5d31818a0f5d"
      },
      "execution_count": 56,
      "outputs": [
        {
          "output_type": "stream",
          "name": "stdout",
          "text": [
            "\u001b[1m66/66\u001b[0m \u001b[32m━━━━━━━━━━━━━━━━━━━━\u001b[0m\u001b[37m\u001b[0m \u001b[1m1s\u001b[0m 14ms/step - accuracy: 0.7510 - loss: 0.8810\n",
            "Test Loss: 1.0756728649139404, Test Accuracy: 0.39393940567970276\n"
          ]
        }
      ]
    },
    {
      "cell_type": "code",
      "source": [
        "predictions = np.argmax(googlenet.predict(test_generator, steps=test_generator.samples), axis=-1)\n",
        "true_labels = test_generator.classes\n",
        "class_labels = list(test_generator.class_indices.keys())"
      ],
      "metadata": {
        "colab": {
          "base_uri": "https://localhost:8080/"
        },
        "id": "A-oV47cqKB7l",
        "outputId": "233b7767-da4b-422a-9f8e-571a7cb9523a"
      },
      "execution_count": 57,
      "outputs": [
        {
          "output_type": "stream",
          "name": "stdout",
          "text": [
            "\u001b[1m66/66\u001b[0m \u001b[32m━━━━━━━━━━━━━━━━━━━━\u001b[0m\u001b[37m\u001b[0m \u001b[1m4s\u001b[0m 13ms/step\n"
          ]
        }
      ]
    },
    {
      "cell_type": "code",
      "source": [
        "print(\"Classification Report:\\n\")\n",
        "print(classification_report(true_labels, predictions, target_names=class_labels))"
      ],
      "metadata": {
        "colab": {
          "base_uri": "https://localhost:8080/"
        },
        "id": "yWMxTBQnKQK9",
        "outputId": "4c712b78-7302-4671-f9f2-e8294f697bd3"
      },
      "execution_count": 58,
      "outputs": [
        {
          "output_type": "stream",
          "name": "stdout",
          "text": [
            "Classification Report:\n",
            "\n",
            "                 precision    recall  f1-score   support\n",
            "\n",
            "          Covid       0.39      1.00      0.57        26\n",
            "         Normal       0.00      0.00      0.00        20\n",
            "Viral Pneumonia       0.00      0.00      0.00        20\n",
            "\n",
            "       accuracy                           0.39        66\n",
            "      macro avg       0.13      0.33      0.19        66\n",
            "   weighted avg       0.16      0.39      0.22        66\n",
            "\n"
          ]
        }
      ]
    },
    {
      "cell_type": "code",
      "source": [
        "model.save(\"googlenet.h5\")"
      ],
      "metadata": {
        "colab": {
          "base_uri": "https://localhost:8080/"
        },
        "id": "h3joZO40LfDr",
        "outputId": "44ca29a6-11fa-45bb-d255-cff3fdf3574f"
      },
      "execution_count": 68,
      "outputs": [
        {
          "output_type": "stream",
          "name": "stderr",
          "text": [
            "WARNING:absl:You are saving your model as an HDF5 file via `model.save()` or `keras.saving.save_model(model)`. This file format is considered legacy. We recommend using instead the native Keras format, e.g. `model.save('my_model.keras')` or `keras.saving.save_model(model, 'my_model.keras')`. \n"
          ]
        }
      ]
    },
    {
      "cell_type": "markdown",
      "source": [
        "Compareing between model"
      ],
      "metadata": {
        "id": "N6E-RukvLivv"
      }
    },
    {
      "cell_type": "code",
      "source": [],
      "metadata": {
        "id": "wTSeS8i1MNt3"
      },
      "execution_count": null,
      "outputs": []
    }
  ]
}