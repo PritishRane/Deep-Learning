{
 "cells": [
  {
   "cell_type": "code",
   "execution_count": 1,
   "metadata": {},
   "outputs": [],
   "source": [
    "from warnings import filterwarnings\n",
    "filterwarnings ('ignore')"
   ]
  },
  {
   "cell_type": "markdown",
   "metadata": {},
   "source": [
    "creating a regression dataset using scikit learn "
   ]
  },
  {
   "cell_type": "code",
   "execution_count": 1,
   "metadata": {},
   "outputs": [],
   "source": [
    "from sklearn.datasets import make_regression\n",
    "x,y=make_regression(n_samples=3000,n_features=30,n_informative=28,noise=10,random_state=42)"
   ]
  },
  {
   "cell_type": "code",
   "execution_count": 2,
   "metadata": {},
   "outputs": [
    {
     "data": {
      "text/plain": [
       "array([[-0.71827942, -0.07007371, -2.8807235 , ...,  0.55875312,\n",
       "        -0.87841759, -0.31143446],\n",
       "       [-0.12946552,  0.4509102 , -0.22386779, ...,  0.47038416,\n",
       "        -2.21539143,  1.3816385 ],\n",
       "       [ 0.24136957,  1.13337657,  0.07615875, ..., -0.92070334,\n",
       "         0.20400935,  0.85537708],\n",
       "       ...,\n",
       "       [ 1.56947425, -0.98543931, -0.68558038, ...,  0.19199239,\n",
       "         0.47005926,  0.50240498],\n",
       "       [ 0.696168  ,  1.64337816, -0.08809124, ...,  0.75109945,\n",
       "        -1.97548777, -2.06508305],\n",
       "       [ 0.17293044,  1.05127132, -0.55991632, ..., -0.04062406,\n",
       "        -0.44272303,  1.14910819]])"
      ]
     },
     "execution_count": 2,
     "metadata": {},
     "output_type": "execute_result"
    }
   ],
   "source": [
    "x"
   ]
  },
  {
   "cell_type": "code",
   "execution_count": 3,
   "metadata": {},
   "outputs": [
    {
     "data": {
      "text/plain": [
       "(3000, 30)"
      ]
     },
     "execution_count": 3,
     "metadata": {},
     "output_type": "execute_result"
    }
   ],
   "source": [
    "x.shape"
   ]
  },
  {
   "cell_type": "code",
   "execution_count": 4,
   "metadata": {},
   "outputs": [
    {
     "data": {
      "text/plain": [
       "array([ -45.03468463, -253.02652499,  496.76697472, ...,  207.02333227,\n",
       "       -828.35114667,  -98.9642237 ])"
      ]
     },
     "execution_count": 4,
     "metadata": {},
     "output_type": "execute_result"
    }
   ],
   "source": [
    "y"
   ]
  },
  {
   "cell_type": "markdown",
   "metadata": {},
   "source": [
    "convering x and y to dataframe"
   ]
  },
  {
   "cell_type": "code",
   "execution_count": 5,
   "metadata": {},
   "outputs": [
    {
     "data": {
      "text/plain": [
       "['x (i+1)',\n",
       " 'x (i+1)',\n",
       " 'x (i+1)',\n",
       " 'x (i+1)',\n",
       " 'x (i+1)',\n",
       " 'x (i+1)',\n",
       " 'x (i+1)',\n",
       " 'x (i+1)',\n",
       " 'x (i+1)',\n",
       " 'x (i+1)',\n",
       " 'x (i+1)',\n",
       " 'x (i+1)',\n",
       " 'x (i+1)',\n",
       " 'x (i+1)',\n",
       " 'x (i+1)',\n",
       " 'x (i+1)',\n",
       " 'x (i+1)',\n",
       " 'x (i+1)',\n",
       " 'x (i+1)',\n",
       " 'x (i+1)',\n",
       " 'x (i+1)',\n",
       " 'x (i+1)',\n",
       " 'x (i+1)',\n",
       " 'x (i+1)',\n",
       " 'x (i+1)',\n",
       " 'x (i+1)',\n",
       " 'x (i+1)',\n",
       " 'x (i+1)',\n",
       " 'x (i+1)',\n",
       " 'x (i+1)']"
      ]
     },
     "execution_count": 5,
     "metadata": {},
     "output_type": "execute_result"
    }
   ],
   "source": [
    "cols=[f'x (i+1)' for i in range (30)]\n",
    "cols"
   ]
  },
  {
   "cell_type": "code",
   "execution_count": 6,
   "metadata": {},
   "outputs": [
    {
     "name": "stderr",
     "output_type": "stream",
     "text": [
      "C:\\Users\\Administrator\\AppData\\Local\\Temp\\ipykernel_8712\\503056793.py:1: DeprecationWarning: \n",
      "Pyarrow will become a required dependency of pandas in the next major release of pandas (pandas 3.0),\n",
      "(to allow more performant data types, such as the Arrow string type, and better interoperability with other libraries)\n",
      "but was not found to be installed on your system.\n",
      "If this would cause problems for you,\n",
      "please provide us feedback at https://github.com/pandas-dev/pandas/issues/54466\n",
      "        \n",
      "  import pandas as pd\n"
     ]
    },
    {
     "data": {
      "text/html": [
       "<div>\n",
       "<style scoped>\n",
       "    .dataframe tbody tr th:only-of-type {\n",
       "        vertical-align: middle;\n",
       "    }\n",
       "\n",
       "    .dataframe tbody tr th {\n",
       "        vertical-align: top;\n",
       "    }\n",
       "\n",
       "    .dataframe thead th {\n",
       "        text-align: right;\n",
       "    }\n",
       "</style>\n",
       "<table border=\"1\" class=\"dataframe\">\n",
       "  <thead>\n",
       "    <tr style=\"text-align: right;\">\n",
       "      <th></th>\n",
       "      <th>x (i+1)</th>\n",
       "      <th>x (i+1)</th>\n",
       "      <th>x (i+1)</th>\n",
       "      <th>x (i+1)</th>\n",
       "      <th>x (i+1)</th>\n",
       "      <th>x (i+1)</th>\n",
       "      <th>x (i+1)</th>\n",
       "      <th>x (i+1)</th>\n",
       "      <th>x (i+1)</th>\n",
       "      <th>x (i+1)</th>\n",
       "      <th>...</th>\n",
       "      <th>x (i+1)</th>\n",
       "      <th>x (i+1)</th>\n",
       "      <th>x (i+1)</th>\n",
       "      <th>x (i+1)</th>\n",
       "      <th>x (i+1)</th>\n",
       "      <th>x (i+1)</th>\n",
       "      <th>x (i+1)</th>\n",
       "      <th>x (i+1)</th>\n",
       "      <th>x (i+1)</th>\n",
       "      <th>x (i+1)</th>\n",
       "    </tr>\n",
       "  </thead>\n",
       "  <tbody>\n",
       "    <tr>\n",
       "      <th>0</th>\n",
       "      <td>-0.718279</td>\n",
       "      <td>-0.070074</td>\n",
       "      <td>-2.880723</td>\n",
       "      <td>-0.291797</td>\n",
       "      <td>-1.279408</td>\n",
       "      <td>0.360495</td>\n",
       "      <td>-2.030042</td>\n",
       "      <td>-0.426785</td>\n",
       "      <td>0.442853</td>\n",
       "      <td>0.112514</td>\n",
       "      <td>...</td>\n",
       "      <td>-1.379176</td>\n",
       "      <td>0.545999</td>\n",
       "      <td>-1.238762</td>\n",
       "      <td>0.210254</td>\n",
       "      <td>2.233469</td>\n",
       "      <td>0.501408</td>\n",
       "      <td>0.311878</td>\n",
       "      <td>0.558753</td>\n",
       "      <td>-0.878418</td>\n",
       "      <td>-0.311434</td>\n",
       "    </tr>\n",
       "    <tr>\n",
       "      <th>1</th>\n",
       "      <td>-0.129466</td>\n",
       "      <td>0.450910</td>\n",
       "      <td>-0.223868</td>\n",
       "      <td>-1.127200</td>\n",
       "      <td>-0.765647</td>\n",
       "      <td>-0.194988</td>\n",
       "      <td>-0.887412</td>\n",
       "      <td>0.706774</td>\n",
       "      <td>-0.341742</td>\n",
       "      <td>0.092110</td>\n",
       "      <td>...</td>\n",
       "      <td>0.767348</td>\n",
       "      <td>-1.111131</td>\n",
       "      <td>-1.120872</td>\n",
       "      <td>-0.434288</td>\n",
       "      <td>0.826882</td>\n",
       "      <td>-0.244658</td>\n",
       "      <td>0.296457</td>\n",
       "      <td>0.470384</td>\n",
       "      <td>-2.215391</td>\n",
       "      <td>1.381639</td>\n",
       "    </tr>\n",
       "    <tr>\n",
       "      <th>2</th>\n",
       "      <td>0.241370</td>\n",
       "      <td>1.133377</td>\n",
       "      <td>0.076159</td>\n",
       "      <td>-0.597106</td>\n",
       "      <td>-0.569812</td>\n",
       "      <td>-1.097820</td>\n",
       "      <td>-0.405152</td>\n",
       "      <td>0.360265</td>\n",
       "      <td>0.296881</td>\n",
       "      <td>-0.184067</td>\n",
       "      <td>...</td>\n",
       "      <td>-0.519368</td>\n",
       "      <td>1.398581</td>\n",
       "      <td>1.022523</td>\n",
       "      <td>-0.081239</td>\n",
       "      <td>0.339850</td>\n",
       "      <td>1.128266</td>\n",
       "      <td>1.101489</td>\n",
       "      <td>-0.920703</td>\n",
       "      <td>0.204009</td>\n",
       "      <td>0.855377</td>\n",
       "    </tr>\n",
       "    <tr>\n",
       "      <th>3</th>\n",
       "      <td>-0.066140</td>\n",
       "      <td>1.154356</td>\n",
       "      <td>0.065168</td>\n",
       "      <td>0.251785</td>\n",
       "      <td>-0.178338</td>\n",
       "      <td>-1.304646</td>\n",
       "      <td>-1.776299</td>\n",
       "      <td>-1.545955</td>\n",
       "      <td>-1.463394</td>\n",
       "      <td>-0.137389</td>\n",
       "      <td>...</td>\n",
       "      <td>0.376657</td>\n",
       "      <td>1.021651</td>\n",
       "      <td>1.064456</td>\n",
       "      <td>-1.066433</td>\n",
       "      <td>-1.620960</td>\n",
       "      <td>1.388090</td>\n",
       "      <td>1.764874</td>\n",
       "      <td>-0.946784</td>\n",
       "      <td>-0.095042</td>\n",
       "      <td>1.812141</td>\n",
       "    </tr>\n",
       "    <tr>\n",
       "      <th>4</th>\n",
       "      <td>0.630665</td>\n",
       "      <td>-1.333967</td>\n",
       "      <td>-0.606582</td>\n",
       "      <td>1.170996</td>\n",
       "      <td>1.342460</td>\n",
       "      <td>-1.284969</td>\n",
       "      <td>1.374057</td>\n",
       "      <td>-1.007511</td>\n",
       "      <td>-0.323503</td>\n",
       "      <td>0.265850</td>\n",
       "      <td>...</td>\n",
       "      <td>-0.500754</td>\n",
       "      <td>0.169756</td>\n",
       "      <td>0.967334</td>\n",
       "      <td>0.028729</td>\n",
       "      <td>0.757923</td>\n",
       "      <td>0.563454</td>\n",
       "      <td>0.625839</td>\n",
       "      <td>0.074512</td>\n",
       "      <td>-0.593699</td>\n",
       "      <td>-0.572639</td>\n",
       "    </tr>\n",
       "  </tbody>\n",
       "</table>\n",
       "<p>5 rows × 30 columns</p>\n",
       "</div>"
      ],
      "text/plain": [
       "    x (i+1)   x (i+1)   x (i+1)   x (i+1)   x (i+1)   x (i+1)   x (i+1)  \\\n",
       "0 -0.718279 -0.070074 -2.880723 -0.291797 -1.279408  0.360495 -2.030042   \n",
       "1 -0.129466  0.450910 -0.223868 -1.127200 -0.765647 -0.194988 -0.887412   \n",
       "2  0.241370  1.133377  0.076159 -0.597106 -0.569812 -1.097820 -0.405152   \n",
       "3 -0.066140  1.154356  0.065168  0.251785 -0.178338 -1.304646 -1.776299   \n",
       "4  0.630665 -1.333967 -0.606582  1.170996  1.342460 -1.284969  1.374057   \n",
       "\n",
       "    x (i+1)   x (i+1)   x (i+1)  ...   x (i+1)   x (i+1)   x (i+1)   x (i+1)  \\\n",
       "0 -0.426785  0.442853  0.112514  ... -1.379176  0.545999 -1.238762  0.210254   \n",
       "1  0.706774 -0.341742  0.092110  ...  0.767348 -1.111131 -1.120872 -0.434288   \n",
       "2  0.360265  0.296881 -0.184067  ... -0.519368  1.398581  1.022523 -0.081239   \n",
       "3 -1.545955 -1.463394 -0.137389  ...  0.376657  1.021651  1.064456 -1.066433   \n",
       "4 -1.007511 -0.323503  0.265850  ... -0.500754  0.169756  0.967334  0.028729   \n",
       "\n",
       "    x (i+1)   x (i+1)   x (i+1)   x (i+1)   x (i+1)   x (i+1)  \n",
       "0  2.233469  0.501408  0.311878  0.558753 -0.878418 -0.311434  \n",
       "1  0.826882 -0.244658  0.296457  0.470384 -2.215391  1.381639  \n",
       "2  0.339850  1.128266  1.101489 -0.920703  0.204009  0.855377  \n",
       "3 -1.620960  1.388090  1.764874 -0.946784 -0.095042  1.812141  \n",
       "4  0.757923  0.563454  0.625839  0.074512 -0.593699 -0.572639  \n",
       "\n",
       "[5 rows x 30 columns]"
      ]
     },
     "execution_count": 6,
     "metadata": {},
     "output_type": "execute_result"
    }
   ],
   "source": [
    "import pandas as pd\n",
    "x=pd.DataFrame(x,columns=cols)\n",
    "x.head()\n"
   ]
  },
  {
   "cell_type": "code",
   "execution_count": 7,
   "metadata": {},
   "outputs": [
    {
     "data": {
      "text/html": [
       "<div>\n",
       "<style scoped>\n",
       "    .dataframe tbody tr th:only-of-type {\n",
       "        vertical-align: middle;\n",
       "    }\n",
       "\n",
       "    .dataframe tbody tr th {\n",
       "        vertical-align: top;\n",
       "    }\n",
       "\n",
       "    .dataframe thead th {\n",
       "        text-align: right;\n",
       "    }\n",
       "</style>\n",
       "<table border=\"1\" class=\"dataframe\">\n",
       "  <thead>\n",
       "    <tr style=\"text-align: right;\">\n",
       "      <th></th>\n",
       "      <th>y</th>\n",
       "    </tr>\n",
       "  </thead>\n",
       "  <tbody>\n",
       "    <tr>\n",
       "      <th>0</th>\n",
       "      <td>-45.034685</td>\n",
       "    </tr>\n",
       "    <tr>\n",
       "      <th>1</th>\n",
       "      <td>-253.026525</td>\n",
       "    </tr>\n",
       "    <tr>\n",
       "      <th>2</th>\n",
       "      <td>496.766975</td>\n",
       "    </tr>\n",
       "    <tr>\n",
       "      <th>3</th>\n",
       "      <td>-4.601647</td>\n",
       "    </tr>\n",
       "    <tr>\n",
       "      <th>4</th>\n",
       "      <td>236.457790</td>\n",
       "    </tr>\n",
       "  </tbody>\n",
       "</table>\n",
       "</div>"
      ],
      "text/plain": [
       "            y\n",
       "0  -45.034685\n",
       "1 -253.026525\n",
       "2  496.766975\n",
       "3   -4.601647\n",
       "4  236.457790"
      ]
     },
     "execution_count": 7,
     "metadata": {},
     "output_type": "execute_result"
    }
   ],
   "source": [
    "y=pd.DataFrame(y,columns=['y'])\n",
    "y.head()"
   ]
  },
  {
   "cell_type": "markdown",
   "metadata": {},
   "source": [
    "creating a scikit learn pipeline"
   ]
  },
  {
   "cell_type": "code",
   "execution_count": 8,
   "metadata": {},
   "outputs": [],
   "source": [
    "from sklearn.pipeline import Pipeline\n",
    "from sklearn.impute import SimpleImputer\n",
    "from sklearn.preprocessing import StandardScaler"
   ]
  },
  {
   "cell_type": "code",
   "execution_count": 9,
   "metadata": {},
   "outputs": [],
   "source": [
    "num_pipe=Pipeline(steps=[('impute',SimpleImputer(strategy='mean')),('scaler',StandardScaler())]).set_output(transform='pandas')"
   ]
  },
  {
   "cell_type": "code",
   "execution_count": 10,
   "metadata": {},
   "outputs": [
    {
     "data": {
      "text/html": [
       "<div>\n",
       "<style scoped>\n",
       "    .dataframe tbody tr th:only-of-type {\n",
       "        vertical-align: middle;\n",
       "    }\n",
       "\n",
       "    .dataframe tbody tr th {\n",
       "        vertical-align: top;\n",
       "    }\n",
       "\n",
       "    .dataframe thead th {\n",
       "        text-align: right;\n",
       "    }\n",
       "</style>\n",
       "<table border=\"1\" class=\"dataframe\">\n",
       "  <thead>\n",
       "    <tr style=\"text-align: right;\">\n",
       "      <th></th>\n",
       "      <th>x (i+1)</th>\n",
       "      <th>x (i+1)</th>\n",
       "      <th>x (i+1)</th>\n",
       "      <th>x (i+1)</th>\n",
       "      <th>x (i+1)</th>\n",
       "      <th>x (i+1)</th>\n",
       "      <th>x (i+1)</th>\n",
       "      <th>x (i+1)</th>\n",
       "      <th>x (i+1)</th>\n",
       "      <th>x (i+1)</th>\n",
       "      <th>...</th>\n",
       "      <th>x (i+1)</th>\n",
       "      <th>x (i+1)</th>\n",
       "      <th>x (i+1)</th>\n",
       "      <th>x (i+1)</th>\n",
       "      <th>x (i+1)</th>\n",
       "      <th>x (i+1)</th>\n",
       "      <th>x (i+1)</th>\n",
       "      <th>x (i+1)</th>\n",
       "      <th>x (i+1)</th>\n",
       "      <th>x (i+1)</th>\n",
       "    </tr>\n",
       "  </thead>\n",
       "  <tbody>\n",
       "    <tr>\n",
       "      <th>0</th>\n",
       "      <td>-0.688919</td>\n",
       "      <td>-0.057155</td>\n",
       "      <td>-2.863120</td>\n",
       "      <td>-0.305510</td>\n",
       "      <td>-1.275101</td>\n",
       "      <td>0.352911</td>\n",
       "      <td>-1.974449</td>\n",
       "      <td>-0.412523</td>\n",
       "      <td>0.431024</td>\n",
       "      <td>0.109518</td>\n",
       "      <td>...</td>\n",
       "      <td>-1.402585</td>\n",
       "      <td>0.574088</td>\n",
       "      <td>-1.226719</td>\n",
       "      <td>0.191083</td>\n",
       "      <td>2.186029</td>\n",
       "      <td>0.475576</td>\n",
       "      <td>0.347794</td>\n",
       "      <td>0.578474</td>\n",
       "      <td>-0.918601</td>\n",
       "      <td>-0.325387</td>\n",
       "    </tr>\n",
       "    <tr>\n",
       "      <th>1</th>\n",
       "      <td>-0.105807</td>\n",
       "      <td>0.470406</td>\n",
       "      <td>-0.205413</td>\n",
       "      <td>-1.147154</td>\n",
       "      <td>-0.763248</td>\n",
       "      <td>-0.201377</td>\n",
       "      <td>-0.849465</td>\n",
       "      <td>0.716442</td>\n",
       "      <td>-0.367298</td>\n",
       "      <td>0.090012</td>\n",
       "      <td>...</td>\n",
       "      <td>0.772182</td>\n",
       "      <td>-1.104212</td>\n",
       "      <td>-1.110130</td>\n",
       "      <td>-0.448803</td>\n",
       "      <td>0.802196</td>\n",
       "      <td>-0.276927</td>\n",
       "      <td>0.332451</td>\n",
       "      <td>0.489438</td>\n",
       "      <td>-2.268167</td>\n",
       "      <td>1.395733</td>\n",
       "    </tr>\n",
       "    <tr>\n",
       "      <th>2</th>\n",
       "      <td>0.261436</td>\n",
       "      <td>1.161488</td>\n",
       "      <td>0.094710</td>\n",
       "      <td>-0.613100</td>\n",
       "      <td>-0.568141</td>\n",
       "      <td>-1.102267</td>\n",
       "      <td>-0.374652</td>\n",
       "      <td>0.371337</td>\n",
       "      <td>0.282499</td>\n",
       "      <td>-0.174010</td>\n",
       "      <td>...</td>\n",
       "      <td>-0.531464</td>\n",
       "      <td>1.437562</td>\n",
       "      <td>1.009621</td>\n",
       "      <td>-0.098304</td>\n",
       "      <td>0.323041</td>\n",
       "      <td>1.107841</td>\n",
       "      <td>1.133389</td>\n",
       "      <td>-0.912149</td>\n",
       "      <td>0.174020</td>\n",
       "      <td>0.860754</td>\n",
       "    </tr>\n",
       "    <tr>\n",
       "      <th>3</th>\n",
       "      <td>-0.043094</td>\n",
       "      <td>1.182733</td>\n",
       "      <td>0.083716</td>\n",
       "      <td>0.242134</td>\n",
       "      <td>-0.178121</td>\n",
       "      <td>-1.308648</td>\n",
       "      <td>-1.724625</td>\n",
       "      <td>-1.527157</td>\n",
       "      <td>-1.508573</td>\n",
       "      <td>-0.129386</td>\n",
       "      <td>...</td>\n",
       "      <td>0.376350</td>\n",
       "      <td>1.055817</td>\n",
       "      <td>1.051092</td>\n",
       "      <td>-1.076381</td>\n",
       "      <td>-1.606051</td>\n",
       "      <td>1.369906</td>\n",
       "      <td>1.793399</td>\n",
       "      <td>-0.938426</td>\n",
       "      <td>-0.127848</td>\n",
       "      <td>1.833367</td>\n",
       "    </tr>\n",
       "    <tr>\n",
       "      <th>4</th>\n",
       "      <td>0.646962</td>\n",
       "      <td>-1.337003</td>\n",
       "      <td>-0.588250</td>\n",
       "      <td>1.168212</td>\n",
       "      <td>1.337030</td>\n",
       "      <td>-1.289013</td>\n",
       "      <td>1.377081</td>\n",
       "      <td>-0.990895</td>\n",
       "      <td>-0.348739</td>\n",
       "      <td>0.256105</td>\n",
       "      <td>...</td>\n",
       "      <td>-0.512606</td>\n",
       "      <td>0.193039</td>\n",
       "      <td>0.955041</td>\n",
       "      <td>0.010869</td>\n",
       "      <td>0.734352</td>\n",
       "      <td>0.538156</td>\n",
       "      <td>0.660157</td>\n",
       "      <td>0.090578</td>\n",
       "      <td>-0.631202</td>\n",
       "      <td>-0.590918</td>\n",
       "    </tr>\n",
       "  </tbody>\n",
       "</table>\n",
       "<p>5 rows × 30 columns</p>\n",
       "</div>"
      ],
      "text/plain": [
       "    x (i+1)   x (i+1)   x (i+1)   x (i+1)   x (i+1)   x (i+1)   x (i+1)  \\\n",
       "0 -0.688919 -0.057155 -2.863120 -0.305510 -1.275101  0.352911 -1.974449   \n",
       "1 -0.105807  0.470406 -0.205413 -1.147154 -0.763248 -0.201377 -0.849465   \n",
       "2  0.261436  1.161488  0.094710 -0.613100 -0.568141 -1.102267 -0.374652   \n",
       "3 -0.043094  1.182733  0.083716  0.242134 -0.178121 -1.308648 -1.724625   \n",
       "4  0.646962 -1.337003 -0.588250  1.168212  1.337030 -1.289013  1.377081   \n",
       "\n",
       "    x (i+1)   x (i+1)   x (i+1)  ...   x (i+1)   x (i+1)   x (i+1)   x (i+1)  \\\n",
       "0 -0.412523  0.431024  0.109518  ... -1.402585  0.574088 -1.226719  0.191083   \n",
       "1  0.716442 -0.367298  0.090012  ...  0.772182 -1.104212 -1.110130 -0.448803   \n",
       "2  0.371337  0.282499 -0.174010  ... -0.531464  1.437562  1.009621 -0.098304   \n",
       "3 -1.527157 -1.508573 -0.129386  ...  0.376350  1.055817  1.051092 -1.076381   \n",
       "4 -0.990895 -0.348739  0.256105  ... -0.512606  0.193039  0.955041  0.010869   \n",
       "\n",
       "    x (i+1)   x (i+1)   x (i+1)   x (i+1)   x (i+1)   x (i+1)  \n",
       "0  2.186029  0.475576  0.347794  0.578474 -0.918601 -0.325387  \n",
       "1  0.802196 -0.276927  0.332451  0.489438 -2.268167  1.395733  \n",
       "2  0.323041  1.107841  1.133389 -0.912149  0.174020  0.860754  \n",
       "3 -1.606051  1.369906  1.793399 -0.938426 -0.127848  1.833367  \n",
       "4  0.734352  0.538156  0.660157  0.090578 -0.631202 -0.590918  \n",
       "\n",
       "[5 rows x 30 columns]"
      ]
     },
     "execution_count": 10,
     "metadata": {},
     "output_type": "execute_result"
    }
   ],
   "source": [
    "x_pre=num_pipe.fit_transform(x)\n",
    "x_pre.head()"
   ]
  },
  {
   "cell_type": "markdown",
   "metadata": {},
   "source": [
    "train test split"
   ]
  },
  {
   "cell_type": "code",
   "execution_count": 11,
   "metadata": {},
   "outputs": [],
   "source": [
    "from sklearn.model_selection import train_test_split\n",
    "xtrain,xtest,ytrain,ytest=train_test_split(x_pre,y,test_size=0.2,random_state=21)"
   ]
  },
  {
   "cell_type": "code",
   "execution_count": 12,
   "metadata": {},
   "outputs": [
    {
     "data": {
      "text/html": [
       "<div>\n",
       "<style scoped>\n",
       "    .dataframe tbody tr th:only-of-type {\n",
       "        vertical-align: middle;\n",
       "    }\n",
       "\n",
       "    .dataframe tbody tr th {\n",
       "        vertical-align: top;\n",
       "    }\n",
       "\n",
       "    .dataframe thead th {\n",
       "        text-align: right;\n",
       "    }\n",
       "</style>\n",
       "<table border=\"1\" class=\"dataframe\">\n",
       "  <thead>\n",
       "    <tr style=\"text-align: right;\">\n",
       "      <th></th>\n",
       "      <th>x (i+1)</th>\n",
       "      <th>x (i+1)</th>\n",
       "      <th>x (i+1)</th>\n",
       "      <th>x (i+1)</th>\n",
       "      <th>x (i+1)</th>\n",
       "      <th>x (i+1)</th>\n",
       "      <th>x (i+1)</th>\n",
       "      <th>x (i+1)</th>\n",
       "      <th>x (i+1)</th>\n",
       "      <th>x (i+1)</th>\n",
       "      <th>...</th>\n",
       "      <th>x (i+1)</th>\n",
       "      <th>x (i+1)</th>\n",
       "      <th>x (i+1)</th>\n",
       "      <th>x (i+1)</th>\n",
       "      <th>x (i+1)</th>\n",
       "      <th>x (i+1)</th>\n",
       "      <th>x (i+1)</th>\n",
       "      <th>x (i+1)</th>\n",
       "      <th>x (i+1)</th>\n",
       "      <th>x (i+1)</th>\n",
       "    </tr>\n",
       "  </thead>\n",
       "  <tbody>\n",
       "    <tr>\n",
       "      <th>1643</th>\n",
       "      <td>0.052039</td>\n",
       "      <td>-0.940475</td>\n",
       "      <td>-0.943021</td>\n",
       "      <td>-0.987331</td>\n",
       "      <td>1.090220</td>\n",
       "      <td>1.585467</td>\n",
       "      <td>-0.678379</td>\n",
       "      <td>-1.139013</td>\n",
       "      <td>-0.171146</td>\n",
       "      <td>-1.170170</td>\n",
       "      <td>...</td>\n",
       "      <td>0.922744</td>\n",
       "      <td>0.526633</td>\n",
       "      <td>0.016138</td>\n",
       "      <td>0.607965</td>\n",
       "      <td>0.333314</td>\n",
       "      <td>-1.520318</td>\n",
       "      <td>0.257526</td>\n",
       "      <td>-0.046280</td>\n",
       "      <td>0.278598</td>\n",
       "      <td>0.122691</td>\n",
       "    </tr>\n",
       "    <tr>\n",
       "      <th>137</th>\n",
       "      <td>1.253791</td>\n",
       "      <td>-0.710742</td>\n",
       "      <td>-1.791321</td>\n",
       "      <td>1.539163</td>\n",
       "      <td>-1.114221</td>\n",
       "      <td>1.012629</td>\n",
       "      <td>0.244713</td>\n",
       "      <td>-1.926104</td>\n",
       "      <td>-0.445870</td>\n",
       "      <td>-0.629977</td>\n",
       "      <td>...</td>\n",
       "      <td>-1.077994</td>\n",
       "      <td>-0.744548</td>\n",
       "      <td>-1.040224</td>\n",
       "      <td>0.435301</td>\n",
       "      <td>-0.454281</td>\n",
       "      <td>1.101016</td>\n",
       "      <td>-0.416873</td>\n",
       "      <td>-0.970135</td>\n",
       "      <td>-0.663722</td>\n",
       "      <td>0.115474</td>\n",
       "    </tr>\n",
       "    <tr>\n",
       "      <th>1205</th>\n",
       "      <td>0.252961</td>\n",
       "      <td>-0.020081</td>\n",
       "      <td>-0.787437</td>\n",
       "      <td>1.481952</td>\n",
       "      <td>-0.891972</td>\n",
       "      <td>0.763080</td>\n",
       "      <td>0.103481</td>\n",
       "      <td>-0.422697</td>\n",
       "      <td>-0.032422</td>\n",
       "      <td>-0.897198</td>\n",
       "      <td>...</td>\n",
       "      <td>-0.213005</td>\n",
       "      <td>-0.275669</td>\n",
       "      <td>0.743194</td>\n",
       "      <td>-0.255197</td>\n",
       "      <td>-0.662567</td>\n",
       "      <td>-0.740384</td>\n",
       "      <td>1.096108</td>\n",
       "      <td>2.044021</td>\n",
       "      <td>-1.143672</td>\n",
       "      <td>0.657581</td>\n",
       "    </tr>\n",
       "    <tr>\n",
       "      <th>523</th>\n",
       "      <td>0.522782</td>\n",
       "      <td>-0.644630</td>\n",
       "      <td>-0.164250</td>\n",
       "      <td>-0.473433</td>\n",
       "      <td>1.297058</td>\n",
       "      <td>1.305110</td>\n",
       "      <td>0.098092</td>\n",
       "      <td>-0.510435</td>\n",
       "      <td>1.836239</td>\n",
       "      <td>0.641412</td>\n",
       "      <td>...</td>\n",
       "      <td>-0.738259</td>\n",
       "      <td>1.205840</td>\n",
       "      <td>1.346459</td>\n",
       "      <td>0.796726</td>\n",
       "      <td>1.464666</td>\n",
       "      <td>1.285444</td>\n",
       "      <td>-0.318203</td>\n",
       "      <td>1.055037</td>\n",
       "      <td>1.077651</td>\n",
       "      <td>-0.034905</td>\n",
       "    </tr>\n",
       "    <tr>\n",
       "      <th>1493</th>\n",
       "      <td>-0.257471</td>\n",
       "      <td>0.131504</td>\n",
       "      <td>-0.411423</td>\n",
       "      <td>0.237039</td>\n",
       "      <td>1.631228</td>\n",
       "      <td>1.070852</td>\n",
       "      <td>-1.716534</td>\n",
       "      <td>-1.038329</td>\n",
       "      <td>0.608915</td>\n",
       "      <td>0.980584</td>\n",
       "      <td>...</td>\n",
       "      <td>-1.106273</td>\n",
       "      <td>-0.672314</td>\n",
       "      <td>-0.409232</td>\n",
       "      <td>-0.574227</td>\n",
       "      <td>-0.049304</td>\n",
       "      <td>-1.098888</td>\n",
       "      <td>0.582422</td>\n",
       "      <td>-1.028832</td>\n",
       "      <td>1.017513</td>\n",
       "      <td>1.018863</td>\n",
       "    </tr>\n",
       "  </tbody>\n",
       "</table>\n",
       "<p>5 rows × 30 columns</p>\n",
       "</div>"
      ],
      "text/plain": [
       "       x (i+1)   x (i+1)   x (i+1)   x (i+1)   x (i+1)   x (i+1)   x (i+1)  \\\n",
       "1643  0.052039 -0.940475 -0.943021 -0.987331  1.090220  1.585467 -0.678379   \n",
       "137   1.253791 -0.710742 -1.791321  1.539163 -1.114221  1.012629  0.244713   \n",
       "1205  0.252961 -0.020081 -0.787437  1.481952 -0.891972  0.763080  0.103481   \n",
       "523   0.522782 -0.644630 -0.164250 -0.473433  1.297058  1.305110  0.098092   \n",
       "1493 -0.257471  0.131504 -0.411423  0.237039  1.631228  1.070852 -1.716534   \n",
       "\n",
       "       x (i+1)   x (i+1)   x (i+1)  ...   x (i+1)   x (i+1)   x (i+1)  \\\n",
       "1643 -1.139013 -0.171146 -1.170170  ...  0.922744  0.526633  0.016138   \n",
       "137  -1.926104 -0.445870 -0.629977  ... -1.077994 -0.744548 -1.040224   \n",
       "1205 -0.422697 -0.032422 -0.897198  ... -0.213005 -0.275669  0.743194   \n",
       "523  -0.510435  1.836239  0.641412  ... -0.738259  1.205840  1.346459   \n",
       "1493 -1.038329  0.608915  0.980584  ... -1.106273 -0.672314 -0.409232   \n",
       "\n",
       "       x (i+1)   x (i+1)   x (i+1)   x (i+1)   x (i+1)   x (i+1)   x (i+1)  \n",
       "1643  0.607965  0.333314 -1.520318  0.257526 -0.046280  0.278598  0.122691  \n",
       "137   0.435301 -0.454281  1.101016 -0.416873 -0.970135 -0.663722  0.115474  \n",
       "1205 -0.255197 -0.662567 -0.740384  1.096108  2.044021 -1.143672  0.657581  \n",
       "523   0.796726  1.464666  1.285444 -0.318203  1.055037  1.077651 -0.034905  \n",
       "1493 -0.574227 -0.049304 -1.098888  0.582422 -1.028832  1.017513  1.018863  \n",
       "\n",
       "[5 rows x 30 columns]"
      ]
     },
     "execution_count": 12,
     "metadata": {},
     "output_type": "execute_result"
    }
   ],
   "source": [
    "xtrain.head()"
   ]
  },
  {
   "cell_type": "code",
   "execution_count": 13,
   "metadata": {},
   "outputs": [
    {
     "data": {
      "text/html": [
       "<div>\n",
       "<style scoped>\n",
       "    .dataframe tbody tr th:only-of-type {\n",
       "        vertical-align: middle;\n",
       "    }\n",
       "\n",
       "    .dataframe tbody tr th {\n",
       "        vertical-align: top;\n",
       "    }\n",
       "\n",
       "    .dataframe thead th {\n",
       "        text-align: right;\n",
       "    }\n",
       "</style>\n",
       "<table border=\"1\" class=\"dataframe\">\n",
       "  <thead>\n",
       "    <tr style=\"text-align: right;\">\n",
       "      <th></th>\n",
       "      <th>y</th>\n",
       "    </tr>\n",
       "  </thead>\n",
       "  <tbody>\n",
       "    <tr>\n",
       "      <th>1643</th>\n",
       "      <td>112.433915</td>\n",
       "    </tr>\n",
       "    <tr>\n",
       "      <th>137</th>\n",
       "      <td>-1083.527732</td>\n",
       "    </tr>\n",
       "    <tr>\n",
       "      <th>1205</th>\n",
       "      <td>-128.674183</td>\n",
       "    </tr>\n",
       "    <tr>\n",
       "      <th>523</th>\n",
       "      <td>761.187440</td>\n",
       "    </tr>\n",
       "    <tr>\n",
       "      <th>1493</th>\n",
       "      <td>-172.902429</td>\n",
       "    </tr>\n",
       "  </tbody>\n",
       "</table>\n",
       "</div>"
      ],
      "text/plain": [
       "                y\n",
       "1643   112.433915\n",
       "137  -1083.527732\n",
       "1205  -128.674183\n",
       "523    761.187440\n",
       "1493  -172.902429"
      ]
     },
     "execution_count": 13,
     "metadata": {},
     "output_type": "execute_result"
    }
   ],
   "source": [
    "ytrain.head()"
   ]
  },
  {
   "cell_type": "code",
   "execution_count": 14,
   "metadata": {},
   "outputs": [
    {
     "data": {
      "text/html": [
       "<div>\n",
       "<style scoped>\n",
       "    .dataframe tbody tr th:only-of-type {\n",
       "        vertical-align: middle;\n",
       "    }\n",
       "\n",
       "    .dataframe tbody tr th {\n",
       "        vertical-align: top;\n",
       "    }\n",
       "\n",
       "    .dataframe thead th {\n",
       "        text-align: right;\n",
       "    }\n",
       "</style>\n",
       "<table border=\"1\" class=\"dataframe\">\n",
       "  <thead>\n",
       "    <tr style=\"text-align: right;\">\n",
       "      <th></th>\n",
       "      <th>x (i+1)</th>\n",
       "      <th>x (i+1)</th>\n",
       "      <th>x (i+1)</th>\n",
       "      <th>x (i+1)</th>\n",
       "      <th>x (i+1)</th>\n",
       "      <th>x (i+1)</th>\n",
       "      <th>x (i+1)</th>\n",
       "      <th>x (i+1)</th>\n",
       "      <th>x (i+1)</th>\n",
       "      <th>x (i+1)</th>\n",
       "      <th>...</th>\n",
       "      <th>x (i+1)</th>\n",
       "      <th>x (i+1)</th>\n",
       "      <th>x (i+1)</th>\n",
       "      <th>x (i+1)</th>\n",
       "      <th>x (i+1)</th>\n",
       "      <th>x (i+1)</th>\n",
       "      <th>x (i+1)</th>\n",
       "      <th>x (i+1)</th>\n",
       "      <th>x (i+1)</th>\n",
       "      <th>x (i+1)</th>\n",
       "    </tr>\n",
       "  </thead>\n",
       "  <tbody>\n",
       "    <tr>\n",
       "      <th>465</th>\n",
       "      <td>-0.169150</td>\n",
       "      <td>0.409952</td>\n",
       "      <td>1.307803</td>\n",
       "      <td>0.700982</td>\n",
       "      <td>-0.022220</td>\n",
       "      <td>-0.114715</td>\n",
       "      <td>-0.166075</td>\n",
       "      <td>1.478153</td>\n",
       "      <td>-0.395357</td>\n",
       "      <td>-0.013553</td>\n",
       "      <td>...</td>\n",
       "      <td>-0.833916</td>\n",
       "      <td>1.384411</td>\n",
       "      <td>0.676108</td>\n",
       "      <td>-0.296128</td>\n",
       "      <td>-0.309297</td>\n",
       "      <td>0.556642</td>\n",
       "      <td>0.432878</td>\n",
       "      <td>-0.163328</td>\n",
       "      <td>-1.799377</td>\n",
       "      <td>0.075014</td>\n",
       "    </tr>\n",
       "    <tr>\n",
       "      <th>904</th>\n",
       "      <td>0.637073</td>\n",
       "      <td>-1.927265</td>\n",
       "      <td>1.005873</td>\n",
       "      <td>0.295788</td>\n",
       "      <td>-1.197994</td>\n",
       "      <td>1.168578</td>\n",
       "      <td>-0.009949</td>\n",
       "      <td>-1.740025</td>\n",
       "      <td>-0.893787</td>\n",
       "      <td>-1.032446</td>\n",
       "      <td>...</td>\n",
       "      <td>0.375229</td>\n",
       "      <td>0.321581</td>\n",
       "      <td>1.098016</td>\n",
       "      <td>-2.367612</td>\n",
       "      <td>-2.161798</td>\n",
       "      <td>0.942354</td>\n",
       "      <td>0.164110</td>\n",
       "      <td>-0.625070</td>\n",
       "      <td>1.951268</td>\n",
       "      <td>-0.588490</td>\n",
       "    </tr>\n",
       "    <tr>\n",
       "      <th>2639</th>\n",
       "      <td>1.505908</td>\n",
       "      <td>0.342662</td>\n",
       "      <td>1.049776</td>\n",
       "      <td>0.563217</td>\n",
       "      <td>1.272666</td>\n",
       "      <td>0.319483</td>\n",
       "      <td>-0.145469</td>\n",
       "      <td>0.724367</td>\n",
       "      <td>-0.875059</td>\n",
       "      <td>1.157968</td>\n",
       "      <td>...</td>\n",
       "      <td>-0.361983</td>\n",
       "      <td>-0.488970</td>\n",
       "      <td>1.633057</td>\n",
       "      <td>-0.719981</td>\n",
       "      <td>-0.043802</td>\n",
       "      <td>0.555418</td>\n",
       "      <td>1.668127</td>\n",
       "      <td>1.919041</td>\n",
       "      <td>-0.105455</td>\n",
       "      <td>0.233323</td>\n",
       "    </tr>\n",
       "    <tr>\n",
       "      <th>2125</th>\n",
       "      <td>0.700346</td>\n",
       "      <td>2.323657</td>\n",
       "      <td>-0.405742</td>\n",
       "      <td>-0.849900</td>\n",
       "      <td>0.199404</td>\n",
       "      <td>-0.194465</td>\n",
       "      <td>-0.126883</td>\n",
       "      <td>-0.110462</td>\n",
       "      <td>2.882282</td>\n",
       "      <td>0.295011</td>\n",
       "      <td>...</td>\n",
       "      <td>-0.451245</td>\n",
       "      <td>0.431099</td>\n",
       "      <td>-0.411627</td>\n",
       "      <td>0.764152</td>\n",
       "      <td>1.172289</td>\n",
       "      <td>-0.002425</td>\n",
       "      <td>-0.254325</td>\n",
       "      <td>-2.008459</td>\n",
       "      <td>0.353949</td>\n",
       "      <td>0.749569</td>\n",
       "    </tr>\n",
       "    <tr>\n",
       "      <th>1962</th>\n",
       "      <td>0.222637</td>\n",
       "      <td>0.279963</td>\n",
       "      <td>-1.257113</td>\n",
       "      <td>0.583550</td>\n",
       "      <td>-0.564966</td>\n",
       "      <td>-1.512064</td>\n",
       "      <td>0.678992</td>\n",
       "      <td>-2.255414</td>\n",
       "      <td>1.393263</td>\n",
       "      <td>0.905597</td>\n",
       "      <td>...</td>\n",
       "      <td>-0.992292</td>\n",
       "      <td>-0.802682</td>\n",
       "      <td>0.288486</td>\n",
       "      <td>-0.037195</td>\n",
       "      <td>-0.669431</td>\n",
       "      <td>0.305328</td>\n",
       "      <td>-1.311686</td>\n",
       "      <td>-1.082929</td>\n",
       "      <td>1.749682</td>\n",
       "      <td>-1.388976</td>\n",
       "    </tr>\n",
       "  </tbody>\n",
       "</table>\n",
       "<p>5 rows × 30 columns</p>\n",
       "</div>"
      ],
      "text/plain": [
       "       x (i+1)   x (i+1)   x (i+1)   x (i+1)   x (i+1)   x (i+1)   x (i+1)  \\\n",
       "465  -0.169150  0.409952  1.307803  0.700982 -0.022220 -0.114715 -0.166075   \n",
       "904   0.637073 -1.927265  1.005873  0.295788 -1.197994  1.168578 -0.009949   \n",
       "2639  1.505908  0.342662  1.049776  0.563217  1.272666  0.319483 -0.145469   \n",
       "2125  0.700346  2.323657 -0.405742 -0.849900  0.199404 -0.194465 -0.126883   \n",
       "1962  0.222637  0.279963 -1.257113  0.583550 -0.564966 -1.512064  0.678992   \n",
       "\n",
       "       x (i+1)   x (i+1)   x (i+1)  ...   x (i+1)   x (i+1)   x (i+1)  \\\n",
       "465   1.478153 -0.395357 -0.013553  ... -0.833916  1.384411  0.676108   \n",
       "904  -1.740025 -0.893787 -1.032446  ...  0.375229  0.321581  1.098016   \n",
       "2639  0.724367 -0.875059  1.157968  ... -0.361983 -0.488970  1.633057   \n",
       "2125 -0.110462  2.882282  0.295011  ... -0.451245  0.431099 -0.411627   \n",
       "1962 -2.255414  1.393263  0.905597  ... -0.992292 -0.802682  0.288486   \n",
       "\n",
       "       x (i+1)   x (i+1)   x (i+1)   x (i+1)   x (i+1)   x (i+1)   x (i+1)  \n",
       "465  -0.296128 -0.309297  0.556642  0.432878 -0.163328 -1.799377  0.075014  \n",
       "904  -2.367612 -2.161798  0.942354  0.164110 -0.625070  1.951268 -0.588490  \n",
       "2639 -0.719981 -0.043802  0.555418  1.668127  1.919041 -0.105455  0.233323  \n",
       "2125  0.764152  1.172289 -0.002425 -0.254325 -2.008459  0.353949  0.749569  \n",
       "1962 -0.037195 -0.669431  0.305328 -1.311686 -1.082929  1.749682 -1.388976  \n",
       "\n",
       "[5 rows x 30 columns]"
      ]
     },
     "execution_count": 14,
     "metadata": {},
     "output_type": "execute_result"
    }
   ],
   "source": [
    "xtest.head()"
   ]
  },
  {
   "cell_type": "code",
   "execution_count": 17,
   "metadata": {},
   "outputs": [
    {
     "data": {
      "text/html": [
       "<div>\n",
       "<style scoped>\n",
       "    .dataframe tbody tr th:only-of-type {\n",
       "        vertical-align: middle;\n",
       "    }\n",
       "\n",
       "    .dataframe tbody tr th {\n",
       "        vertical-align: top;\n",
       "    }\n",
       "\n",
       "    .dataframe thead th {\n",
       "        text-align: right;\n",
       "    }\n",
       "</style>\n",
       "<table border=\"1\" class=\"dataframe\">\n",
       "  <thead>\n",
       "    <tr style=\"text-align: right;\">\n",
       "      <th></th>\n",
       "      <th>y</th>\n",
       "    </tr>\n",
       "  </thead>\n",
       "  <tbody>\n",
       "    <tr>\n",
       "      <th>465</th>\n",
       "      <td>-153.360317</td>\n",
       "    </tr>\n",
       "    <tr>\n",
       "      <th>904</th>\n",
       "      <td>-827.315745</td>\n",
       "    </tr>\n",
       "    <tr>\n",
       "      <th>2639</th>\n",
       "      <td>715.436126</td>\n",
       "    </tr>\n",
       "    <tr>\n",
       "      <th>2125</th>\n",
       "      <td>528.030227</td>\n",
       "    </tr>\n",
       "    <tr>\n",
       "      <th>1962</th>\n",
       "      <td>-44.600383</td>\n",
       "    </tr>\n",
       "  </tbody>\n",
       "</table>\n",
       "</div>"
      ],
      "text/plain": [
       "               y\n",
       "465  -153.360317\n",
       "904  -827.315745\n",
       "2639  715.436126\n",
       "2125  528.030227\n",
       "1962  -44.600383"
      ]
     },
     "execution_count": 17,
     "metadata": {},
     "output_type": "execute_result"
    }
   ],
   "source": [
    "ytest.head()"
   ]
  },
  {
   "cell_type": "markdown",
   "metadata": {},
   "source": [
    "built a neural network"
   ]
  },
  {
   "cell_type": "code",
   "execution_count": 18,
   "metadata": {},
   "outputs": [],
   "source": [
    "from keras.models import Sequential\n",
    "from keras.layers import Dense"
   ]
  },
  {
   "cell_type": "code",
   "execution_count": 19,
   "metadata": {},
   "outputs": [
    {
     "name": "stdout",
     "output_type": "stream",
     "text": [
      "WARNING:tensorflow:From g:\\S.Y. Pharm.D\\pythonethelhive\\Deep Learning 6 to 8\\repository\\venv\\Lib\\site-packages\\keras\\src\\backend.py:873: The name tf.get_default_graph is deprecated. Please use tf.compat.v1.get_default_graph instead.\n",
      "\n"
     ]
    }
   ],
   "source": [
    "model=Sequential()"
   ]
  },
  {
   "cell_type": "code",
   "execution_count": 22,
   "metadata": {},
   "outputs": [],
   "source": [
    "#creating a hidden layer 1\n",
    "model.add(Dense(units=64,activation='relu',input_shape=(xtrain.shape[1],)))\n",
    "#creating a hidden layer with 32\n",
    "model.add(Dense(units=32,activation='relu'))\n",
    "#create a output layer\n",
    "model.add(Dense(units=1,activation='linear'))"
   ]
  },
  {
   "cell_type": "code",
   "execution_count": 23,
   "metadata": {},
   "outputs": [
    {
     "name": "stdout",
     "output_type": "stream",
     "text": [
      "WARNING:tensorflow:From g:\\S.Y. Pharm.D\\pythonethelhive\\Deep Learning 6 to 8\\repository\\venv\\Lib\\site-packages\\keras\\src\\optimizers\\__init__.py:309: The name tf.train.Optimizer is deprecated. Please use tf.compat.v1.train.Optimizer instead.\n",
      "\n"
     ]
    }
   ],
   "source": [
    "#compiling the model\n",
    "model.compile(optimizer='adam',loss='mse',metrics=['mae'])"
   ]
  },
  {
   "cell_type": "code",
   "execution_count": 25,
   "metadata": {},
   "outputs": [
    {
     "name": "stdout",
     "output_type": "stream",
     "text": [
      "Epoch 1/100\n",
      "WARNING:tensorflow:From g:\\S.Y. Pharm.D\\pythonethelhive\\Deep Learning 6 to 8\\repository\\venv\\Lib\\site-packages\\keras\\src\\utils\\tf_utils.py:492: The name tf.ragged.RaggedTensorValue is deprecated. Please use tf.compat.v1.ragged.RaggedTensorValue instead.\n",
      "\n",
      "WARNING:tensorflow:From g:\\S.Y. Pharm.D\\pythonethelhive\\Deep Learning 6 to 8\\repository\\venv\\Lib\\site-packages\\keras\\src\\engine\\base_layer_utils.py:384: The name tf.executing_eagerly_outside_functions is deprecated. Please use tf.compat.v1.executing_eagerly_outside_functions instead.\n",
      "\n",
      "60/60 [==============================] - 4s 18ms/step - loss: 111613.5703 - mae: 264.5211 - val_loss: 111733.3359 - val_mae: 266.9779\n",
      "Epoch 2/100\n",
      "60/60 [==============================] - 0s 8ms/step - loss: 79020.1797 - mae: 211.9223 - val_loss: 44698.8711 - val_mae: 138.0921\n",
      "Epoch 3/100\n",
      "60/60 [==============================] - 0s 6ms/step - loss: 16250.0508 - mae: 77.8417 - val_loss: 2843.5244 - val_mae: 40.7161\n",
      "Epoch 4/100\n",
      "60/60 [==============================] - 0s 6ms/step - loss: 1766.6438 - mae: 31.8981 - val_loss: 1033.9130 - val_mae: 24.8684\n",
      "Epoch 5/100\n",
      "60/60 [==============================] - 0s 6ms/step - loss: 989.7351 - mae: 24.7897 - val_loss: 786.7934 - val_mae: 21.1788\n",
      "Epoch 6/100\n",
      "60/60 [==============================] - 0s 6ms/step - loss: 724.8458 - mae: 21.1195 - val_loss: 593.4968 - val_mae: 19.2812\n",
      "Epoch 7/100\n",
      "60/60 [==============================] - 0s 6ms/step - loss: 567.7604 - mae: 18.9003 - val_loss: 582.3925 - val_mae: 19.1917\n",
      "Epoch 8/100\n",
      "60/60 [==============================] - 0s 6ms/step - loss: 477.5378 - mae: 17.3523 - val_loss: 473.6268 - val_mae: 17.0266\n",
      "Epoch 9/100\n",
      "60/60 [==============================] - 0s 7ms/step - loss: 432.3081 - mae: 16.4327 - val_loss: 512.9402 - val_mae: 17.5805\n",
      "Epoch 10/100\n",
      "60/60 [==============================] - 0s 6ms/step - loss: 390.2552 - mae: 15.5974 - val_loss: 496.1163 - val_mae: 17.0405\n",
      "Epoch 11/100\n",
      "60/60 [==============================] - 0s 6ms/step - loss: 365.5518 - mae: 15.1691 - val_loss: 419.4950 - val_mae: 15.8344\n",
      "Epoch 12/100\n",
      "60/60 [==============================] - 0s 6ms/step - loss: 342.3107 - mae: 14.5722 - val_loss: 398.8795 - val_mae: 15.5977\n",
      "Epoch 13/100\n",
      "60/60 [==============================] - 0s 6ms/step - loss: 293.4181 - mae: 13.5131 - val_loss: 367.4052 - val_mae: 15.0850\n",
      "Epoch 14/100\n",
      "60/60 [==============================] - 0s 6ms/step - loss: 274.0518 - mae: 13.0549 - val_loss: 354.5131 - val_mae: 14.8185\n",
      "Epoch 15/100\n",
      "60/60 [==============================] - 0s 6ms/step - loss: 261.6530 - mae: 12.6304 - val_loss: 352.1193 - val_mae: 14.7648\n",
      "Epoch 16/100\n",
      "60/60 [==============================] - 0s 5ms/step - loss: 249.8856 - mae: 12.4765 - val_loss: 356.9116 - val_mae: 14.8941\n",
      "Epoch 17/100\n",
      "60/60 [==============================] - 0s 6ms/step - loss: 219.3371 - mae: 11.7328 - val_loss: 322.8315 - val_mae: 13.9260\n",
      "Epoch 18/100\n",
      "60/60 [==============================] - 0s 6ms/step - loss: 227.2592 - mae: 11.8887 - val_loss: 325.1128 - val_mae: 14.2253\n",
      "Epoch 19/100\n",
      "60/60 [==============================] - 0s 6ms/step - loss: 200.1652 - mae: 11.2228 - val_loss: 303.7427 - val_mae: 13.8893\n",
      "Epoch 20/100\n",
      "60/60 [==============================] - 0s 6ms/step - loss: 194.9203 - mae: 11.0839 - val_loss: 296.2943 - val_mae: 13.4659\n",
      "Epoch 21/100\n",
      "60/60 [==============================] - 0s 7ms/step - loss: 183.1626 - mae: 10.6241 - val_loss: 311.3648 - val_mae: 13.7167\n",
      "Epoch 22/100\n",
      "60/60 [==============================] - 0s 6ms/step - loss: 169.3433 - mae: 10.2934 - val_loss: 317.6208 - val_mae: 13.9169\n",
      "Epoch 23/100\n",
      "60/60 [==============================] - 0s 6ms/step - loss: 178.2842 - mae: 10.4600 - val_loss: 279.4905 - val_mae: 13.2387\n",
      "Epoch 24/100\n",
      "60/60 [==============================] - 0s 7ms/step - loss: 165.0088 - mae: 10.0940 - val_loss: 349.6206 - val_mae: 14.9752\n",
      "Epoch 25/100\n",
      "60/60 [==============================] - 0s 8ms/step - loss: 167.2121 - mae: 10.3201 - val_loss: 270.2965 - val_mae: 12.9149\n",
      "Epoch 26/100\n",
      "60/60 [==============================] - 0s 8ms/step - loss: 149.1618 - mae: 9.5987 - val_loss: 280.7657 - val_mae: 13.1462\n",
      "Epoch 27/100\n",
      "60/60 [==============================] - 0s 6ms/step - loss: 139.0493 - mae: 9.2491 - val_loss: 287.0628 - val_mae: 13.3767\n",
      "Epoch 28/100\n",
      "60/60 [==============================] - 0s 6ms/step - loss: 136.5355 - mae: 9.1923 - val_loss: 267.7022 - val_mae: 12.7991\n",
      "Epoch 29/100\n",
      "60/60 [==============================] - 0s 7ms/step - loss: 133.4544 - mae: 9.0648 - val_loss: 285.2297 - val_mae: 13.1541\n",
      "Epoch 30/100\n",
      "60/60 [==============================] - 0s 6ms/step - loss: 126.4426 - mae: 8.8693 - val_loss: 263.7404 - val_mae: 12.7866\n",
      "Epoch 31/100\n",
      "60/60 [==============================] - 0s 5ms/step - loss: 136.3862 - mae: 9.1904 - val_loss: 280.2674 - val_mae: 13.1300\n",
      "Epoch 32/100\n",
      "60/60 [==============================] - 0s 6ms/step - loss: 128.4695 - mae: 8.9276 - val_loss: 256.1409 - val_mae: 12.4615\n",
      "Epoch 33/100\n",
      "60/60 [==============================] - 0s 7ms/step - loss: 124.7559 - mae: 8.8009 - val_loss: 394.9544 - val_mae: 15.9141\n",
      "Epoch 34/100\n",
      "60/60 [==============================] - 0s 6ms/step - loss: 131.7207 - mae: 8.9201 - val_loss: 266.5966 - val_mae: 12.9452\n",
      "Epoch 35/100\n",
      "60/60 [==============================] - 0s 6ms/step - loss: 109.9103 - mae: 8.2933 - val_loss: 257.9286 - val_mae: 12.6645\n",
      "Epoch 36/100\n",
      "60/60 [==============================] - 0s 6ms/step - loss: 118.5608 - mae: 8.5847 - val_loss: 260.3436 - val_mae: 12.7852\n",
      "Epoch 37/100\n",
      "60/60 [==============================] - 0s 5ms/step - loss: 103.4167 - mae: 7.9994 - val_loss: 255.1636 - val_mae: 12.4004\n",
      "Epoch 38/100\n",
      "60/60 [==============================] - 0s 6ms/step - loss: 103.6306 - mae: 8.0464 - val_loss: 252.2835 - val_mae: 12.4841\n",
      "Epoch 39/100\n",
      "60/60 [==============================] - 0s 5ms/step - loss: 97.8779 - mae: 7.7589 - val_loss: 248.7879 - val_mae: 12.5722\n",
      "Epoch 40/100\n",
      "60/60 [==============================] - 0s 5ms/step - loss: 99.7877 - mae: 7.8902 - val_loss: 240.0020 - val_mae: 12.0514\n",
      "Epoch 41/100\n",
      "60/60 [==============================] - 1s 9ms/step - loss: 90.4991 - mae: 7.4023 - val_loss: 259.5287 - val_mae: 12.5387\n",
      "Epoch 42/100\n",
      "60/60 [==============================] - 0s 6ms/step - loss: 92.1906 - mae: 7.4297 - val_loss: 254.8056 - val_mae: 12.4766\n",
      "Epoch 43/100\n",
      "60/60 [==============================] - 0s 6ms/step - loss: 98.1155 - mae: 7.8110 - val_loss: 276.3878 - val_mae: 12.7843\n",
      "Epoch 44/100\n",
      "60/60 [==============================] - 0s 6ms/step - loss: 85.8086 - mae: 7.2678 - val_loss: 258.1983 - val_mae: 12.7310\n",
      "Epoch 45/100\n",
      "60/60 [==============================] - 0s 5ms/step - loss: 87.5617 - mae: 7.3324 - val_loss: 252.8432 - val_mae: 12.4273\n",
      "Epoch 46/100\n",
      "60/60 [==============================] - 0s 6ms/step - loss: 91.0485 - mae: 7.4962 - val_loss: 247.7472 - val_mae: 12.3777\n",
      "Epoch 47/100\n",
      "60/60 [==============================] - 0s 6ms/step - loss: 87.4846 - mae: 7.2766 - val_loss: 273.1606 - val_mae: 13.2321\n",
      "Epoch 48/100\n",
      "60/60 [==============================] - 0s 6ms/step - loss: 84.8226 - mae: 7.2678 - val_loss: 260.5949 - val_mae: 12.5237\n",
      "Epoch 49/100\n",
      "60/60 [==============================] - 0s 6ms/step - loss: 85.4347 - mae: 7.2099 - val_loss: 273.7791 - val_mae: 12.9746\n",
      "Epoch 50/100\n",
      "60/60 [==============================] - 0s 6ms/step - loss: 81.0969 - mae: 7.0195 - val_loss: 242.9081 - val_mae: 12.2351\n",
      "Epoch 51/100\n",
      "60/60 [==============================] - 0s 6ms/step - loss: 76.6384 - mae: 6.8646 - val_loss: 252.2761 - val_mae: 12.5802\n",
      "Epoch 52/100\n",
      "60/60 [==============================] - 0s 6ms/step - loss: 78.8310 - mae: 6.9441 - val_loss: 260.1707 - val_mae: 12.4074\n",
      "Epoch 53/100\n",
      "60/60 [==============================] - 0s 6ms/step - loss: 77.8428 - mae: 6.9538 - val_loss: 236.1586 - val_mae: 12.0062\n",
      "Epoch 54/100\n",
      "60/60 [==============================] - 0s 6ms/step - loss: 78.3908 - mae: 6.9317 - val_loss: 240.3299 - val_mae: 12.1279\n",
      "Epoch 55/100\n",
      "60/60 [==============================] - 0s 6ms/step - loss: 73.4675 - mae: 6.7680 - val_loss: 262.0847 - val_mae: 12.7873\n",
      "Epoch 56/100\n",
      "60/60 [==============================] - 0s 6ms/step - loss: 70.7007 - mae: 6.6424 - val_loss: 250.1264 - val_mae: 12.3936\n",
      "Epoch 57/100\n",
      "60/60 [==============================] - 0s 7ms/step - loss: 66.6865 - mae: 6.3779 - val_loss: 269.1693 - val_mae: 13.1006\n",
      "Epoch 58/100\n",
      "60/60 [==============================] - 1s 9ms/step - loss: 73.6587 - mae: 6.7101 - val_loss: 245.8201 - val_mae: 12.2775\n",
      "Epoch 59/100\n",
      "60/60 [==============================] - 0s 6ms/step - loss: 64.7065 - mae: 6.2670 - val_loss: 257.1944 - val_mae: 12.5294\n",
      "Epoch 60/100\n",
      "60/60 [==============================] - 0s 6ms/step - loss: 75.9119 - mae: 6.8382 - val_loss: 251.5502 - val_mae: 12.6422\n",
      "Epoch 61/100\n",
      "60/60 [==============================] - 0s 7ms/step - loss: 68.6443 - mae: 6.4324 - val_loss: 252.6243 - val_mae: 12.4581\n",
      "Epoch 62/100\n",
      "60/60 [==============================] - 0s 7ms/step - loss: 73.7065 - mae: 6.7709 - val_loss: 249.4304 - val_mae: 12.3646\n",
      "Epoch 63/100\n",
      "60/60 [==============================] - 0s 7ms/step - loss: 62.7540 - mae: 6.2199 - val_loss: 246.2450 - val_mae: 12.2106\n",
      "Epoch 64/100\n",
      "60/60 [==============================] - 0s 8ms/step - loss: 79.1009 - mae: 6.8953 - val_loss: 273.0268 - val_mae: 12.6841\n",
      "Epoch 65/100\n",
      "60/60 [==============================] - 0s 6ms/step - loss: 68.9739 - mae: 6.5260 - val_loss: 245.3718 - val_mae: 12.1194\n",
      "Epoch 66/100\n",
      "60/60 [==============================] - 1s 11ms/step - loss: 58.6254 - mae: 5.9839 - val_loss: 252.2917 - val_mae: 12.2322\n",
      "Epoch 67/100\n",
      "60/60 [==============================] - 0s 7ms/step - loss: 57.5560 - mae: 5.9318 - val_loss: 247.3107 - val_mae: 12.2946\n",
      "Epoch 68/100\n",
      "60/60 [==============================] - 0s 7ms/step - loss: 63.1808 - mae: 6.2278 - val_loss: 255.7120 - val_mae: 12.5465\n",
      "Epoch 69/100\n",
      "60/60 [==============================] - 1s 11ms/step - loss: 56.9664 - mae: 5.8711 - val_loss: 241.8592 - val_mae: 12.0591\n",
      "Epoch 70/100\n",
      "60/60 [==============================] - 1s 11ms/step - loss: 56.1434 - mae: 5.8067 - val_loss: 257.4523 - val_mae: 12.7753\n",
      "Epoch 71/100\n",
      "60/60 [==============================] - 0s 7ms/step - loss: 63.4162 - mae: 6.1774 - val_loss: 255.2630 - val_mae: 12.4129\n",
      "Epoch 72/100\n",
      "60/60 [==============================] - 1s 11ms/step - loss: 68.7260 - mae: 6.4672 - val_loss: 286.7151 - val_mae: 13.5813\n",
      "Epoch 73/100\n",
      "60/60 [==============================] - 0s 7ms/step - loss: 60.3031 - mae: 6.0861 - val_loss: 240.6936 - val_mae: 11.9630\n",
      "Epoch 74/100\n",
      "60/60 [==============================] - 0s 6ms/step - loss: 50.3745 - mae: 5.5209 - val_loss: 239.9030 - val_mae: 12.1715\n",
      "Epoch 75/100\n",
      "60/60 [==============================] - 0s 6ms/step - loss: 59.2937 - mae: 5.9763 - val_loss: 244.1153 - val_mae: 12.0729\n",
      "Epoch 76/100\n",
      "60/60 [==============================] - 0s 6ms/step - loss: 51.5055 - mae: 5.6283 - val_loss: 237.5166 - val_mae: 12.0704\n",
      "Epoch 77/100\n",
      "60/60 [==============================] - 1s 9ms/step - loss: 46.7153 - mae: 5.3935 - val_loss: 249.3440 - val_mae: 12.5391\n",
      "Epoch 78/100\n",
      "60/60 [==============================] - 0s 8ms/step - loss: 51.1980 - mae: 5.5771 - val_loss: 233.4462 - val_mae: 11.9434\n",
      "Epoch 79/100\n",
      "60/60 [==============================] - 0s 7ms/step - loss: 50.4284 - mae: 5.4952 - val_loss: 249.4769 - val_mae: 12.5560\n",
      "Epoch 80/100\n",
      "60/60 [==============================] - 0s 5ms/step - loss: 53.5342 - mae: 5.7241 - val_loss: 253.1950 - val_mae: 12.5594\n",
      "Epoch 81/100\n",
      "60/60 [==============================] - 0s 6ms/step - loss: 49.6500 - mae: 5.4749 - val_loss: 240.9110 - val_mae: 12.1720\n",
      "Epoch 82/100\n",
      "60/60 [==============================] - 0s 6ms/step - loss: 49.3828 - mae: 5.4444 - val_loss: 238.3392 - val_mae: 12.1465\n",
      "Epoch 83/100\n",
      "60/60 [==============================] - 0s 6ms/step - loss: 48.7851 - mae: 5.4438 - val_loss: 239.0049 - val_mae: 11.9630\n",
      "Epoch 84/100\n",
      "60/60 [==============================] - 0s 6ms/step - loss: 47.2058 - mae: 5.3298 - val_loss: 243.9700 - val_mae: 12.2510\n",
      "Epoch 85/100\n",
      "60/60 [==============================] - 0s 6ms/step - loss: 64.8987 - mae: 6.2510 - val_loss: 283.3228 - val_mae: 12.9952\n",
      "Epoch 86/100\n",
      "60/60 [==============================] - 0s 6ms/step - loss: 51.6806 - mae: 5.5865 - val_loss: 234.3731 - val_mae: 11.8924\n",
      "Epoch 87/100\n",
      "60/60 [==============================] - 0s 6ms/step - loss: 44.0789 - mae: 5.2057 - val_loss: 239.0182 - val_mae: 12.1608\n",
      "Epoch 88/100\n",
      "60/60 [==============================] - 0s 6ms/step - loss: 43.2382 - mae: 5.1395 - val_loss: 239.2635 - val_mae: 12.2523\n",
      "Epoch 89/100\n",
      "60/60 [==============================] - 0s 6ms/step - loss: 47.0268 - mae: 5.3824 - val_loss: 246.5852 - val_mae: 12.1321\n",
      "Epoch 90/100\n",
      "60/60 [==============================] - 0s 6ms/step - loss: 44.8093 - mae: 5.1461 - val_loss: 247.5648 - val_mae: 12.2427\n",
      "Epoch 91/100\n",
      "60/60 [==============================] - 0s 8ms/step - loss: 42.7698 - mae: 5.1473 - val_loss: 240.9879 - val_mae: 12.2517\n",
      "Epoch 92/100\n",
      "60/60 [==============================] - 0s 6ms/step - loss: 59.3448 - mae: 6.0047 - val_loss: 251.5575 - val_mae: 12.2501\n",
      "Epoch 93/100\n",
      "60/60 [==============================] - 0s 8ms/step - loss: 52.1269 - mae: 5.6921 - val_loss: 233.2608 - val_mae: 11.6765\n",
      "Epoch 94/100\n",
      "60/60 [==============================] - 0s 6ms/step - loss: 44.4608 - mae: 5.2373 - val_loss: 255.9902 - val_mae: 12.5288\n",
      "Epoch 95/100\n",
      "60/60 [==============================] - 0s 8ms/step - loss: 46.9697 - mae: 5.3600 - val_loss: 268.5345 - val_mae: 12.8673\n",
      "Epoch 96/100\n",
      "60/60 [==============================] - 0s 6ms/step - loss: 47.2135 - mae: 5.3684 - val_loss: 238.8667 - val_mae: 11.7759\n",
      "Epoch 97/100\n",
      "60/60 [==============================] - 0s 8ms/step - loss: 46.4379 - mae: 5.4204 - val_loss: 252.1110 - val_mae: 12.2052\n",
      "Epoch 98/100\n",
      "60/60 [==============================] - 0s 6ms/step - loss: 57.4093 - mae: 5.9746 - val_loss: 295.4200 - val_mae: 13.6272\n",
      "Epoch 99/100\n",
      "60/60 [==============================] - 0s 6ms/step - loss: 41.2489 - mae: 5.0861 - val_loss: 240.7480 - val_mae: 12.2210\n",
      "Epoch 100/100\n",
      "60/60 [==============================] - 0s 6ms/step - loss: 39.7685 - mae: 4.9360 - val_loss: 254.0903 - val_mae: 12.2485\n"
     ]
    }
   ],
   "source": [
    "hist=model.fit(xtrain,ytrain,validation_split=0.2,epochs=100)"
   ]
  },
  {
   "cell_type": "markdown",
   "metadata": {},
   "source": [
    "plot a learning curve"
   ]
  },
  {
   "cell_type": "code",
   "execution_count": 26,
   "metadata": {},
   "outputs": [
    {
     "data": {
      "text/plain": [
       "[111613.5703125,\n",
       " 79020.1796875,\n",
       " 16250.05078125,\n",
       " 1766.643798828125,\n",
       " 989.735107421875,\n",
       " 724.8458251953125,\n",
       " 567.7603759765625,\n",
       " 477.5378112792969,\n",
       " 432.3080749511719,\n",
       " 390.2551574707031,\n",
       " 365.5518493652344,\n",
       " 342.3106689453125,\n",
       " 293.4180603027344,\n",
       " 274.05181884765625,\n",
       " 261.6529846191406,\n",
       " 249.88563537597656,\n",
       " 219.33709716796875,\n",
       " 227.25924682617188,\n",
       " 200.16517639160156,\n",
       " 194.92034912109375,\n",
       " 183.1625518798828,\n",
       " 169.34326171875,\n",
       " 178.28416442871094,\n",
       " 165.0088348388672,\n",
       " 167.21206665039062,\n",
       " 149.16177368164062,\n",
       " 139.04931640625,\n",
       " 136.53549194335938,\n",
       " 133.45440673828125,\n",
       " 126.44264221191406,\n",
       " 136.38621520996094,\n",
       " 128.46949768066406,\n",
       " 124.75587463378906,\n",
       " 131.7206573486328,\n",
       " 109.91034698486328,\n",
       " 118.56084442138672,\n",
       " 103.41667175292969,\n",
       " 103.630615234375,\n",
       " 97.87788391113281,\n",
       " 99.7877426147461,\n",
       " 90.49907684326172,\n",
       " 92.19062042236328,\n",
       " 98.11547088623047,\n",
       " 85.80864715576172,\n",
       " 87.5616683959961,\n",
       " 91.04846954345703,\n",
       " 87.48461151123047,\n",
       " 84.82257843017578,\n",
       " 85.43470001220703,\n",
       " 81.09687805175781,\n",
       " 76.63844299316406,\n",
       " 78.83101654052734,\n",
       " 77.8427505493164,\n",
       " 78.39075469970703,\n",
       " 73.46754455566406,\n",
       " 70.70072937011719,\n",
       " 66.68651580810547,\n",
       " 73.65870666503906,\n",
       " 64.70647430419922,\n",
       " 75.91191101074219,\n",
       " 68.64427947998047,\n",
       " 73.7065200805664,\n",
       " 62.75404739379883,\n",
       " 79.10090637207031,\n",
       " 68.97391510009766,\n",
       " 58.62540054321289,\n",
       " 57.55598449707031,\n",
       " 63.180789947509766,\n",
       " 56.96636962890625,\n",
       " 56.1434326171875,\n",
       " 63.416202545166016,\n",
       " 68.72598266601562,\n",
       " 60.30314254760742,\n",
       " 50.37447738647461,\n",
       " 59.29365921020508,\n",
       " 51.50551223754883,\n",
       " 46.71530532836914,\n",
       " 51.19797134399414,\n",
       " 50.42836380004883,\n",
       " 53.53424072265625,\n",
       " 49.64999008178711,\n",
       " 49.38276290893555,\n",
       " 48.785118103027344,\n",
       " 47.20580291748047,\n",
       " 64.89865112304688,\n",
       " 51.6805534362793,\n",
       " 44.07886505126953,\n",
       " 43.23823547363281,\n",
       " 47.02684020996094,\n",
       " 44.80931091308594,\n",
       " 42.76984405517578,\n",
       " 59.34479904174805,\n",
       " 52.12693405151367,\n",
       " 44.4608154296875,\n",
       " 46.9697380065918,\n",
       " 47.21347427368164,\n",
       " 46.4378547668457,\n",
       " 57.40932083129883,\n",
       " 41.24894332885742,\n",
       " 39.76853942871094]"
      ]
     },
     "execution_count": 26,
     "metadata": {},
     "output_type": "execute_result"
    }
   ],
   "source": [
    "hist.history['loss']"
   ]
  },
  {
   "cell_type": "code",
   "execution_count": 27,
   "metadata": {},
   "outputs": [
    {
     "data": {
      "image/png": "[encoded data removed]",
      "text/plain": [
       "<Figure size 1000x500 with 1 Axes>"
      ]
     },
     "metadata": {},
     "output_type": "display_data"
    }
   ],
   "source": [
    "import matplotlib.pyplot as plt\n",
    "plt.figure(figsize=(10,5))\n",
    "plt.plot(hist.history['loss'],label='training loss')\n",
    "plt.plot(hist.history['val_loss'],label='validation loss')\n",
    "plt.xlabel('Epochs')\n",
    "plt.ylabel('mean squared error')\n",
    "plt.title('learning curve')\n",
    "plt.legend()\n",
    "plt.show()"
   ]
  },
  {
   "cell_type": "markdown",
   "metadata": {},
   "source": [
    "evaluate the model"
   ]
  },
  {
   "cell_type": "code",
   "execution_count": 28,
   "metadata": {},
   "outputs": [
    {
     "name": "stdout",
     "output_type": "stream",
     "text": [
      "19/19 [==============================] - 1s 5ms/step - loss: 283.7118 - mae: 13.2569\n"
     ]
    },
    {
     "data": {
      "text/plain": [
       "[283.7118225097656, 13.256928443908691]"
      ]
     },
     "execution_count": 28,
     "metadata": {},
     "output_type": "execute_result"
    }
   ],
   "source": [
    "model.evaluate(xtest,ytest)"
   ]
  },
  {
   "cell_type": "code",
   "execution_count": 29,
   "metadata": {},
   "outputs": [
    {
     "name": "stdout",
     "output_type": "stream",
     "text": [
      "75/75 [==============================] - 1s 9ms/step - loss: 93.3648 - mae: 7.0510\n"
     ]
    },
    {
     "data": {
      "text/plain": [
       "[93.3647689819336, 7.050973892211914]"
      ]
     },
     "execution_count": 29,
     "metadata": {},
     "output_type": "execute_result"
    }
   ],
   "source": [
    "model.evaluate(xtrain,ytrain)"
   ]
  },
  {
   "cell_type": "markdown",
   "metadata": {},
   "source": [
    "predict value for train and test"
   ]
  },
  {
   "cell_type": "code",
   "execution_count": 30,
   "metadata": {},
   "outputs": [
    {
     "name": "stdout",
     "output_type": "stream",
     "text": [
      "75/75 [==============================] - 1s 5ms/step\n",
      "19/19 [==============================] - 0s 3ms/step\n"
     ]
    }
   ],
   "source": [
    "ypred_tr=model.predict(xtrain)\n",
    "ypred_ts=model.predict(xtest)"
   ]
  },
  {
   "cell_type": "code",
   "execution_count": 31,
   "metadata": {},
   "outputs": [
    {
     "data": {
      "text/plain": [
       "array([[  113.70576],\n",
       "       [-1062.0052 ],\n",
       "       [ -126.02657],\n",
       "       [  771.59344],\n",
       "       [ -172.34384]], dtype=float32)"
      ]
     },
     "execution_count": 31,
     "metadata": {},
     "output_type": "execute_result"
    }
   ],
   "source": [
    "ypred_tr[0:5]"
   ]
  },
  {
   "cell_type": "code",
   "execution_count": 32,
   "metadata": {},
   "outputs": [
    {
     "data": {
      "text/html": [
       "<div>\n",
       "<style scoped>\n",
       "    .dataframe tbody tr th:only-of-type {\n",
       "        vertical-align: middle;\n",
       "    }\n",
       "\n",
       "    .dataframe tbody tr th {\n",
       "        vertical-align: top;\n",
       "    }\n",
       "\n",
       "    .dataframe thead th {\n",
       "        text-align: right;\n",
       "    }\n",
       "</style>\n",
       "<table border=\"1\" class=\"dataframe\">\n",
       "  <thead>\n",
       "    <tr style=\"text-align: right;\">\n",
       "      <th></th>\n",
       "      <th>y</th>\n",
       "    </tr>\n",
       "  </thead>\n",
       "  <tbody>\n",
       "    <tr>\n",
       "      <th>1643</th>\n",
       "      <td>112.433915</td>\n",
       "    </tr>\n",
       "    <tr>\n",
       "      <th>137</th>\n",
       "      <td>-1083.527732</td>\n",
       "    </tr>\n",
       "    <tr>\n",
       "      <th>1205</th>\n",
       "      <td>-128.674183</td>\n",
       "    </tr>\n",
       "    <tr>\n",
       "      <th>523</th>\n",
       "      <td>761.187440</td>\n",
       "    </tr>\n",
       "    <tr>\n",
       "      <th>1493</th>\n",
       "      <td>-172.902429</td>\n",
       "    </tr>\n",
       "  </tbody>\n",
       "</table>\n",
       "</div>"
      ],
      "text/plain": [
       "                y\n",
       "1643   112.433915\n",
       "137  -1083.527732\n",
       "1205  -128.674183\n",
       "523    761.187440\n",
       "1493  -172.902429"
      ]
     },
     "execution_count": 32,
     "metadata": {},
     "output_type": "execute_result"
    }
   ],
   "source": [
    "ytrain.head()"
   ]
  },
  {
   "cell_type": "code",
   "execution_count": 33,
   "metadata": {},
   "outputs": [
    {
     "data": {
      "text/plain": [
       "array([[-139.74461],\n",
       "       [-830.96686],\n",
       "       [ 719.67194],\n",
       "       [ 521.75745],\n",
       "       [ -41.04863]], dtype=float32)"
      ]
     },
     "execution_count": 33,
     "metadata": {},
     "output_type": "execute_result"
    }
   ],
   "source": [
    "ypred_ts[0:5]"
   ]
  },
  {
   "cell_type": "code",
   "execution_count": 34,
   "metadata": {},
   "outputs": [
    {
     "data": {
      "text/html": [
       "<div>\n",
       "<style scoped>\n",
       "    .dataframe tbody tr th:only-of-type {\n",
       "        vertical-align: middle;\n",
       "    }\n",
       "\n",
       "    .dataframe tbody tr th {\n",
       "        vertical-align: top;\n",
       "    }\n",
       "\n",
       "    .dataframe thead th {\n",
       "        text-align: right;\n",
       "    }\n",
       "</style>\n",
       "<table border=\"1\" class=\"dataframe\">\n",
       "  <thead>\n",
       "    <tr style=\"text-align: right;\">\n",
       "      <th></th>\n",
       "      <th>y</th>\n",
       "    </tr>\n",
       "  </thead>\n",
       "  <tbody>\n",
       "    <tr>\n",
       "      <th>465</th>\n",
       "      <td>-153.360317</td>\n",
       "    </tr>\n",
       "    <tr>\n",
       "      <th>904</th>\n",
       "      <td>-827.315745</td>\n",
       "    </tr>\n",
       "    <tr>\n",
       "      <th>2639</th>\n",
       "      <td>715.436126</td>\n",
       "    </tr>\n",
       "    <tr>\n",
       "      <th>2125</th>\n",
       "      <td>528.030227</td>\n",
       "    </tr>\n",
       "    <tr>\n",
       "      <th>1962</th>\n",
       "      <td>-44.600383</td>\n",
       "    </tr>\n",
       "  </tbody>\n",
       "</table>\n",
       "</div>"
      ],
      "text/plain": [
       "               y\n",
       "465  -153.360317\n",
       "904  -827.315745\n",
       "2639  715.436126\n",
       "2125  528.030227\n",
       "1962  -44.600383"
      ]
     },
     "execution_count": 34,
     "metadata": {},
     "output_type": "execute_result"
    }
   ],
   "source": [
    "ytest.head()"
   ]
  },
  {
   "cell_type": "markdown",
   "metadata": {},
   "source": [
    "calculate the r2 score"
   ]
  },
  {
   "cell_type": "code",
   "execution_count": 35,
   "metadata": {},
   "outputs": [],
   "source": [
    "from sklearn.metrics import r2_score"
   ]
  },
  {
   "cell_type": "code",
   "execution_count": 37,
   "metadata": {},
   "outputs": [
    {
     "data": {
      "text/plain": [
       "0.9991774134276777"
      ]
     },
     "execution_count": 37,
     "metadata": {},
     "output_type": "execute_result"
    }
   ],
   "source": [
    "tr_r2=r2_score(ytrain,ypred_tr)\n",
    "tr_r2"
   ]
  },
  {
   "cell_type": "code",
   "execution_count": 38,
   "metadata": {},
   "outputs": [
    {
     "data": {
      "text/plain": [
       "0.9976145805223382"
      ]
     },
     "execution_count": 38,
     "metadata": {},
     "output_type": "execute_result"
    }
   ],
   "source": [
    "ts_r2=r2_score(ytest,ypred_ts)\n",
    "ts_r2"
   ]
  },
  {
   "cell_type": "markdown",
   "metadata": {},
   "source": [
    "saving the neural network model for given dataset"
   ]
  },
  {
   "cell_type": "code",
   "execution_count": 39,
   "metadata": {},
   "outputs": [
    {
     "name": "stdout",
     "output_type": "stream",
     "text": [
      "Model: \"sequential\"\n",
      "_________________________________________________________________\n",
      " Layer (type)                Output Shape              Param #   \n",
      "=================================================================\n",
      " dense_1 (Dense)             (None, 64)                1984      \n",
      "                                                                 \n",
      " dense_2 (Dense)             (None, 32)                2080      \n",
      "                                                                 \n",
      " dense_3 (Dense)             (None, 64)                2112      \n",
      "                                                                 \n",
      " dense_4 (Dense)             (None, 32)                2080      \n",
      "                                                                 \n",
      " dense_5 (Dense)             (None, 1)                 33        \n",
      "                                                                 \n",
      "=================================================================\n",
      "Total params: 8289 (32.38 KB)\n",
      "Trainable params: 8289 (32.38 KB)\n",
      "Non-trainable params: 0 (0.00 Byte)\n",
      "_________________________________________________________________\n"
     ]
    }
   ],
   "source": [
    "model.summary()"
   ]
  },
  {
   "cell_type": "code",
   "execution_count": 40,
   "metadata": {},
   "outputs": [],
   "source": [
    "model.save('Regression.keras')"
   ]
  },
  {
   "cell_type": "markdown",
   "metadata": {},
   "source": [
    "load the model"
   ]
  },
  {
   "cell_type": "code",
   "execution_count": 41,
   "metadata": {},
   "outputs": [],
   "source": [
    "from keras.models import load_model"
   ]
  },
  {
   "cell_type": "code",
   "execution_count": 42,
   "metadata": {},
   "outputs": [],
   "source": [
    "nn=load_model('Regression.keras')"
   ]
  },
  {
   "cell_type": "code",
   "execution_count": 43,
   "metadata": {},
   "outputs": [
    {
     "name": "stdout",
     "output_type": "stream",
     "text": [
      "Model: \"sequential\"\n",
      "_________________________________________________________________\n",
      " Layer (type)                Output Shape              Param #   \n",
      "=================================================================\n",
      " dense_1 (Dense)             (None, 64)                1984      \n",
      "                                                                 \n",
      " dense_2 (Dense)             (None, 32)                2080      \n",
      "                                                                 \n",
      " dense_3 (Dense)             (None, 64)                2112      \n",
      "                                                                 \n",
      " dense_4 (Dense)             (None, 32)                2080      \n",
      "                                                                 \n",
      " dense_5 (Dense)             (None, 1)                 33        \n",
      "                                                                 \n",
      "=================================================================\n",
      "Total params: 8289 (32.38 KB)\n",
      "Trainable params: 8289 (32.38 KB)\n",
      "Non-trainable params: 0 (0.00 Byte)\n",
      "_________________________________________________________________\n"
     ]
    }
   ],
   "source": [
    "nn.summary()"
   ]
  },
  {
   "cell_type": "code",
   "execution_count": null,
   "metadata": {},
   "outputs": [],
   "source": []
  }
 ],
 "metadata": {
  "kernelspec": {
   "display_name": "venv",
   "language": "python",
   "name": "python3"
  },
  "language_info": {
   "codemirror_mode": {
    "name": "ipython",
    "version": 3
   },
   "file_extension": ".py",
   "mimetype": "text/x-python",
   "name": "python",
   "nbconvert_exporter": "python",
   "pygments_lexer": "ipython3",
   "version": "3.11.8"
  }
 },
 "nbformat": 4,
 "nbformat_minor": 2
}
